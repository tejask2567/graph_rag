{
 "cells": [
  {
   "cell_type": "code",
   "execution_count": 1,
   "metadata": {
    "colab": {
     "base_uri": "https://localhost:8080/"
    },
    "id": "5x3LkpUztHNU",
    "outputId": "cefd9160-b864-4c3f-bbbc-d21e68ddf78f"
   },
   "outputs": [
    {
     "name": "stdout",
     "output_type": "stream",
     "text": [
      "  Preparing metadata (setup.py) ... \u001b[?25l\u001b[?25hdone\n",
      "\u001b[2K   \u001b[90m━━━━━━━━━━━━━━━━━━━━━━━━━━━━━━━━━━━━━━━━\u001b[0m \u001b[32m1.0/1.0 MB\u001b[0m \u001b[31m18.3 MB/s\u001b[0m eta \u001b[36m0:00:00\u001b[0m\n",
      "\u001b[2K   \u001b[90m━━━━━━━━━━━━━━━━━━━━━━━━━━━━━━━━━━━━━━━━\u001b[0m \u001b[32m2.4/2.4 MB\u001b[0m \u001b[31m17.2 MB/s\u001b[0m eta \u001b[36m0:00:00\u001b[0m\n",
      "\u001b[2K   \u001b[90m━━━━━━━━━━━━━━━━━━━━━━━━━━━━━━━━━━━━━━━━\u001b[0m \u001b[32m50.4/50.4 kB\u001b[0m \u001b[31m1.8 MB/s\u001b[0m eta \u001b[36m0:00:00\u001b[0m\n",
      "\u001b[2K   \u001b[90m━━━━━━━━━━━━━━━━━━━━━━━━━━━━━━━━━━━━━━━━\u001b[0m \u001b[32m209.0/209.0 kB\u001b[0m \u001b[31m9.1 MB/s\u001b[0m eta \u001b[36m0:00:00\u001b[0m\n",
      "\u001b[2K   \u001b[90m━━━━━━━━━━━━━━━━━━━━━━━━━━━━━━━━━━━━━━━━\u001b[0m \u001b[32m302.0/302.0 kB\u001b[0m \u001b[31m10.5 MB/s\u001b[0m eta \u001b[36m0:00:00\u001b[0m\n",
      "\u001b[2K   \u001b[90m━━━━━━━━━━━━━━━━━━━━━━━━━━━━━━━━━━━━━━━━\u001b[0m \u001b[32m1.2/1.2 MB\u001b[0m \u001b[31m20.2 MB/s\u001b[0m eta \u001b[36m0:00:00\u001b[0m\n",
      "\u001b[2K   \u001b[90m━━━━━━━━━━━━━━━━━━━━━━━━━━━━━━━━━━━━━━━━\u001b[0m \u001b[32m15.5/15.5 MB\u001b[0m \u001b[31m24.2 MB/s\u001b[0m eta \u001b[36m0:00:00\u001b[0m\n",
      "\u001b[2K   \u001b[90m━━━━━━━━━━━━━━━━━━━━━━━━━━━━━━━━━━━━━━━━\u001b[0m \u001b[32m139.8/139.8 kB\u001b[0m \u001b[31m6.6 MB/s\u001b[0m eta \u001b[36m0:00:00\u001b[0m\n",
      "\u001b[2K   \u001b[90m━━━━━━━━━━━━━━━━━━━━━━━━━━━━━━━━━━━━━━━━\u001b[0m \u001b[32m408.7/408.7 kB\u001b[0m \u001b[31m10.9 MB/s\u001b[0m eta \u001b[36m0:00:00\u001b[0m\n",
      "\u001b[2K   \u001b[90m━━━━━━━━━━━━━━━━━━━━━━━━━━━━━━━━━━━━━━━━\u001b[0m \u001b[32m389.6/389.6 kB\u001b[0m \u001b[31m8.4 MB/s\u001b[0m eta \u001b[36m0:00:00\u001b[0m\n",
      "\u001b[2K   \u001b[90m━━━━━━━━━━━━━━━━━━━━━━━━━━━━━━━━━━━━━━━━\u001b[0m \u001b[32m3.1/3.1 MB\u001b[0m \u001b[31m35.6 MB/s\u001b[0m eta \u001b[36m0:00:00\u001b[0m\n",
      "\u001b[2K   \u001b[90m━━━━━━━━━━━━━━━━━━━━━━━━━━━━━━━━━━━━━━━━\u001b[0m \u001b[32m49.5/49.5 kB\u001b[0m \u001b[31m1.5 MB/s\u001b[0m eta \u001b[36m0:00:00\u001b[0m\n",
      "\u001b[2K   \u001b[90m━━━━━━━━━━━━━━━━━━━━━━━━━━━━━━━━━━━━━━━━\u001b[0m \u001b[32m2.3/2.3 MB\u001b[0m \u001b[31m12.2 MB/s\u001b[0m eta \u001b[36m0:00:00\u001b[0m\n",
      "\u001b[2K   \u001b[90m━━━━━━━━━━━━━━━━━━━━━━━━━━━━━━━━━━━━━━━━\u001b[0m \u001b[32m1.6/1.6 MB\u001b[0m \u001b[31m12.0 MB/s\u001b[0m eta \u001b[36m0:00:00\u001b[0m\n",
      "\u001b[?25h  Building wheel for wikipedia (setup.py) ... \u001b[?25l\u001b[?25hdone\n"
     ]
    }
   ],
   "source": [
    "%pip install --upgrade --quiet  langchain langchain-community langchain-openai langchain-experimental neo4j wikipedia tiktoken yfiles_jupyter_graphs"
   ]
  },
  {
   "cell_type": "code",
   "execution_count": 2,
   "metadata": {
    "id": "jPIRSGz4tHNV"
   },
   "outputs": [],
   "source": [
    "from langchain_core.runnables import (\n",
    "    RunnableBranch,\n",
    "    RunnableLambda,\n",
    "    RunnableParallel,\n",
    "    RunnablePassthrough,\n",
    ")\n",
    "from langchain_core.prompts import ChatPromptTemplate\n",
    "from langchain_core.prompts.prompt import PromptTemplate\n",
    "from pydantic import BaseModel,  Field\n",
    "from typing import Tuple, List, Optional\n",
    "from langchain_core.messages import AIMessage, HumanMessage\n",
    "from langchain_core.output_parsers import StrOutputParser\n",
    "import os\n",
    "from langchain_community.graphs import Neo4jGraph\n",
    "from langchain.document_loaders import WikipediaLoader\n",
    "from langchain.text_splitter import TokenTextSplitter\n",
    "from langchain_groq import ChatGroq\n",
    "from langchain_experimental.graph_transformers import LLMGraphTransformer\n",
    "from neo4j import GraphDatabase\n",
    "from yfiles_jupyter_graphs import GraphWidget\n",
    "from langchain_community.vectorstores import Neo4jVector\n",
    "from langchain_community.embeddings import HuggingFaceEmbeddings  # Alternative to OpenAI embeddings\n",
    "from langchain_community.vectorstores.neo4j_vector import remove_lucene_chars\n",
    "from langchain_core.runnables import ConfigurableField, RunnableParallel, RunnablePassthrough\n"
   ]
  },
  {
   "cell_type": "code",
   "execution_count": null,
   "metadata": {
    "id": "L0nXP1aYtHNW"
   },
   "outputs": [],
   "source": [
    "os.environ[\"GROQ_API_KEY\"] = \"\"  # Replace with your Groq API key\n",
    "os.environ[\"NEO4J_URI\"] = \"bolt://localhost:7687\"\n",
    "os.environ[\"NEO4J_USERNAME\"] = \"neo4j\"\n",
    "os.environ[\"NEO4J_PASSWORD\"] = \"password\"\n",
    "\n",
    "\n",
    "graph = Neo4jGraph()"
   ]
  },
  {
   "cell_type": "code",
   "execution_count": 19,
   "metadata": {},
   "outputs": [],
   "source": [
    "from langchain_community.document_loaders import TextLoader"
   ]
  },
  {
   "cell_type": "code",
   "execution_count": 20,
   "metadata": {},
   "outputs": [
    {
     "data": {
      "text/plain": [
       "'> nmap $target -p- -T4 -Pn --open --reason\\nNmap scan report for 10.10.11.248\\nHost is up, received user-set (0.057s latency).\\nNot shown: 63049 closed tcp ports (conn-refused), 2481 filtered tcp ports (no-response)\\nSome closed ports may be reported as filtered due to --defeat-rst-ratelimit\\nPORT     STATE SERVICE REASON\\n22/tcp   open  ssh     syn-ack\\n80/tcp   open  http    syn-ack\\n389/tcp  open  ldap    syn-ack\\n443/tcp  open  https   syn-ack\\n5667/tcp open  unknown syn-ack\\n \\nNmap done: 1 IP address (1 host up) scanned in 33.02 seconds\\n\\n> ffuf -c -w /usr/share/seclists/Discovery/Web-Content/directory-list-2.3-small.txt -t 100 -fc 404 -e .php,.html,.txt -u https://nagios.monitored.htb/nagiosxi/FUZZ\\n \\n        /\\'___\\\\  /\\'___\\\\           /\\'___\\\\      \\n       /\\\\ \\\\__/ /\\\\ \\\\__/  __  __  /\\\\ \\\\__/      \\n       \\\\ \\\\ ,__\\\\\\\\ \\\\ ,__\\\\/\\\\ \\\\/\\\\ \\\\ \\\\ \\\\ ,__\\\\     \\n        \\\\ \\\\ \\\\_/ \\\\ \\\\ \\\\_/\\\\ \\\\ \\\\_\\\\ \\\\ \\\\ \\\\ \\\\_/      \\n         \\\\ \\\\_\\\\   \\\\ \\\\_\\\\  \\\\ \\\\____/  \\\\ \\\\_\\\\      \\n          \\\\/_/    \\\\/_/   \\\\/___/    \\\\/_/      \\n \\n       v2.1.0-dev\\n________________________________________________\\n \\n :: Method           : GET\\n :: URL              : https://nagios.monitored.htb/nagiosxi/FUZZ\\n :: Wordlist         : FUZZ: /usr/share/seclists/Discovery/Web-Content/directory-list-2.3-small.txt\\n :: Extensions       : .php .html .txt\\n :: Follow redirects : false\\n :: Calibration      : false\\n :: Timeout          : 10\\n :: Threads          : 100\\n :: Matcher          : Response status: 200-299,301,302,307,401,403,405,500\\n :: Filter           : Response status: 404\\n________________________________________________\\n \\nimages                  [Status: 301, Size: 340, Words: 20, Lines: 10, Duration: 48ms]\\nindex.php               [Status: 302, Size: 27, Words: 5, Lines: 1, Duration: 81ms]\\nabout                   [Status: 301, Size: 339, Words: 20, Lines: 10, Duration: 46ms]\\nlogin.php               [Status: 200, Size: 26575, Words: 5452, Lines: 467, Duration: 96ms]\\nhelp                    [Status: 301, Size: 338, Words: 20, Lines: 10, Duration: 45ms]\\ntools                   [Status: 301, Size: 339, Words: 20, Lines: 10, Duration: 44ms]\\nmobile                  [Status: 301, Size: 340, Words: 20, Lines: 10, Duration: 43ms]\\nadmin                   [Status: 301, Size: 339, Words: 20, Lines: 10, Duration: 43ms]\\nreports                 [Status: 301, Size: 341, Words: 20, Lines: 10, Duration: 43ms]\\naccount                 [Status: 301, Size: 341, Words: 20, Lines: 10, Duration: 52ms]\\nincludes                [Status: 301, Size: 342, Words: 20, Lines: 10, Duration: 45ms]\\ninstall.php             [Status: 302, Size: 0, Words: 1, Lines: 1, Duration: 82ms]\\nbackend                 [Status: 301, Size: 341, Words: 20, Lines: 10, Duration: 45ms]\\ndb                      [Status: 301, Size: 336, Words: 20, Lines: 10, Duration: 51ms]\\napi                     [Status: 301, Size: 337, Words: 20, Lines: 10, Duration: 90ms]\\nupgrade.php             [Status: 302, Size: 0, Words: 1, Lines: 1, Duration: 99ms]\\nconfig                  [Status: 301, Size: 340, Words: 20, Lines: 10, Duration: 57ms]\\nsuggest.php             [Status: 200, Size: 27, Words: 5, Lines: 1, Duration: 100ms]\\nviews                   [Status: 301, Size: 339, Words: 20, Lines: 10, Duration: 51ms]\\nsounds                  [Status: 403, Size: 286, Words: 20, Lines: 10, Duration: 45ms]\\nrr.php                  [Status: 302, Size: 0, Words: 1, Lines: 1, Duration: 154ms]\\nterminal                [Status: 200, Size: 5215, Words: 1247, Lines: 124, Duration: 159ms]\\n.php                    [Status: 403, Size: 286, Words: 20, Lines: 10, Duration: 45ms]\\n.html                   [Status: 403, Size: 286, Words: 20, Lines: 10, Duration: 47ms]\\n \\n:: Progress: [350600/350600] :: Job [1/1] :: 1196 req/sec :: Duration: [0:15:18] :: Errors: 1099::\\n\\n> nmap $target -p389 -script discovery\\nPre-scan script results:\\n|_hostmap-robtex: *TEMPORARILY DISABLED* due to changes in Robtex\\'s API. See https://www.robtex.com/api/\\n|_http-robtex-shared-ns: *TEMPORARILY DISABLED* due to changes in Robtex\\'s API. See https://www.robtex.com/api/\\n| targets-asn:\\n|_  targets-asn.asn is a mandatory parameter\\nNmap scan report for monitored.htb (10.10.11.248)\\nHost is up (0.043s latency).\\n \\nPORT    STATE SERVICE\\n389/tcp open  ldap\\n| ldap-search:\\n|   Context: dc=monitored,dc=htb\\n|     dn: dc=monitored,dc=htb\\n|         objectClass: top\\n|         objectClass: dcObject\\n|         objectClass: organization\\n|         o: monitored.htb\\n|_        dc: monitored\\n| ldap-rootdse:\\n| LDAP Results\\n|   <ROOT>\\n|       namingContexts: dc=monitored,dc=htb\\n|       supportedControl: 2.16.840.1.113730.3.4.18\\n|       supportedControl: 2.16.840.1.113730.3.4.2\\n|       supportedControl: 1.3.6.1.4.1.4203.1.10.1\\n|       supportedControl: 1.3.6.1.1.22\\n|       supportedControl: 1.2.840.113556.1.4.319\\n|       supportedControl: 1.2.826.0.1.3344810.2.3\\n|       supportedControl: 1.3.6.1.1.13.2\\n|       supportedControl: 1.3.6.1.1.13.1\\n|       supportedControl: 1.3.6.1.1.12\\n|       supportedExtension: 1.3.6.1.4.1.4203.1.11.1\\n|       supportedExtension: 1.3.6.1.4.1.4203.1.11.3\\n|       supportedExtension: 1.3.6.1.1.8\\n|       supportedLDAPVersion: 3\\n|       supportedSASLMechanisms: DIGEST-MD5\\n|       supportedSASLMechanisms: NTLM\\n|       supportedSASLMechanisms: CRAM-MD5\\n|_      subschemaSubentry: cn=Subschema\\n \\nHost script results:\\n|_fcrdns: FAIL (No PTR record)\\n| dns-brute:\\n|_  DNS Brute-force hostnames: No results.\\n \\nNmap done: 1 IP address (1 host up) scanned in 16.82 seconds\\n\\n> snmpwalk -c public -v1 -t 10 $target\\niso.3.6.1.2.1.1.1.0 = STRING: \"Linux monitored 5.10.0-27-amd64 #1 SMP Debian 5.10.205-2 (2023-12-31) x86_64\"\\niso.3.6.1.2.1.1.2.0 = OID: iso.3.6.1.4.1.8072.3.2.10\\niso.3.6.1.2.1.1.3.0 = Timeticks: (1036224) 2:52:42.24\\niso.3.6.1.2.1.1.4.0 = STRING: \"Me <root@monitored.htb>\"\\niso.3.6.1.2.1.1.5.0 = STRING: \"monitored\"\\niso.3.6.1.2.1.1.6.0 = STRING: \"Sitting on the Dock of the Bay\"\\niso.3.6.1.2.1.1.7.0 = INTEGER: 72\\niso.3.6.1.2.1.1.8.0 = Timeticks: (1550) 0:00:15.50\\nâ€¦\\niso.3.6.1.2.1.1.9.1.3.1 = STRING: \"The SNMP Management Architecture MIB.\"\\niso.3.6.1.2.1.1.9.1.3.2 = STRING: \"The MIB for Message Processing and Dispatching.\"\\niso.3.6.1.2.1.1.9.1.3.3 = STRING: \"The management information definitions for the SNMP User-based Security Model.\"\\niso.3.6.1.2.1.1.9.1.3.4 = STRING: \"The MIB module for SNMPv2 entities\"\\niso.3.6.1.2.1.1.9.1.3.5 = STRING: \"View-based Access Control Model for SNMP.\"\\niso.3.6.1.2.1.1.9.1.3.6 = STRING: \"The MIB module for managing TCP implementations\"\\niso.3.6.1.2.1.1.9.1.3.7 = STRING: \"The MIB module for managing UDP implementations\"\\niso.3.6.1.2.1.1.9.1.3.8 = STRING: \"The MIB module for managing IP and ICMP implementations\"\\niso.3.6.1.2.1.1.9.1.3.9 = STRING: \"The MIB modules for managing SNMP Notification, plus filtering.\"\\niso.3.6.1.2.1.1.9.1.3.10 = STRING: \"The MIB module for logging SNMP Notifications.\"\\niso.3.6.1.2.1.1.9.1.3.11 = STRING: \"The MIB module for logging SNMP Notifications.\"\\niso.3.6.1.2.1.25.1.4.0 = STRING: \"BOOT_IMAGE=/boot/vmlinuz-5.10.0-27-amd64 root=UUID=d8761c35-f10f-4e79-b24c-38a65ad7ce1b ro net.ifnames=0 biosdevname=0 quiet\"\\nâ€¦\\niso.3.6.1.2.1.25.4.2.1.5.492 = STRING: \"--config /etc/laurel/config.toml\"\\niso.3.6.1.2.1.25.4.2.1.5.522 = \"\"\\niso.3.6.1.2.1.25.4.2.1.5.569 = STRING: \"-d -q -s\"\\niso.3.6.1.2.1.25.4.2.1.5.571 = STRING: \"-f\"\\niso.3.6.1.2.1.25.4.2.1.5.572 = STRING: \"--system --address=systemd: --nofork --nopidfile --systemd-activation --syslog-only\"\\niso.3.6.1.2.1.25.4.2.1.5.575 = STRING: \"-n -iNONE\"\\niso.3.6.1.2.1.25.4.2.1.5.577 = \"\"\\niso.3.6.1.2.1.25.4.2.1.5.578 = STRING: \"-u -s -O /run/wpa_supplicant\"\\niso.3.6.1.2.1.25.4.2.1.5.588 = STRING: \"-f\"\\niso.3.6.1.2.1.25.4.2.1.5.609 = STRING: \"-c sleep 30; sudo -u svc /bin/bash -c /opt/scripts/check_host.sh svc XjH7VCehowpR1xZB \"\\niso.3.6.1.2.1.25.4.2.1.5.621 = STRING: \"-4 -v -i -pf /run/dhclient.eth0.pid -lf /var/lib/dhcp/dhclient.eth0.leases -I -df /var/lib/dhcp/dhclient6.eth0.leases eth0\"\\niso.3.6.1.2.1.25.4.2.1.5.686 = \"\"\\niso.3.6.1.2.1.25.4.2.1.5.687 = \"\"\\niso.3.6.1.2.1.25.4.2.1.5.731 = STRING: \"-f /usr/local/nagios/etc/pnp/npcd.cfg\"\\niso.3.6.1.2.1.25.4.2.1.5.737 = STRING: \"-LOw -f -p /run/snmptrapd.pid\"\\niso.3.6.1.2.1.25.4.2.1.5.750 = STRING: \"-LOw -u Debian-snmp -g Debian-snmp -I -smux mteTrigger mteTriggerConf -f -p /run/snmpd.pid\"\\niso.3.6.1.2.1.25.4.2.1.5.759 = STRING: \"-o -p -- \\\\\\\\u --noclear tty1 linux\"\\niso.3.6.1.2.1.25.4.2.1.5.770 = STRING: \"-p /var/run/ntpd.pid -g -u 108:116\"\\niso.3.6.1.2.1.25.4.2.1.5.780 = \"\"\\niso.3.6.1.2.1.25.4.2.1.5.816 = STRING: \"-q --background=/var/run/shellinaboxd.pid -c /var/lib/shellinabox -p 7878 -u shellinabox -g shellinabox --user-css Black on Whit\"\\niso.3.6.1.2.1.25.4.2.1.5.818 = STRING: \"-h ldap:/// ldapi:/// -g openldap -u openldap -F /etc/ldap/slapd.d\"\\niso.3.6.1.2.1.25.4.2.1.5.819 = STRING: \"-q --background=/var/run/shellinaboxd.pid -c /var/lib/shellinabox -p 7878 -u shellinabox -g shellinabox --user-css Black on Whit\"\\niso.3.6.1.2.1.25.4.2.1.5.826 = STRING: \"-k start\"\\niso.3.6.1.2.1.25.4.2.1.5.834 = STRING: \"-D /var/lib/postgresql/13/main -c config_file=/etc/postgresql/13/main/postgresql.conf\"\\niso.3.6.1.2.1.25.4.2.1.5.1535 = STRING: \"-u svc /bin/bash -c /opt/scripts/check_host.sh svc XjH7VCehowpR1xZB\"\\niso.3.6.1.2.1.25.4.2.1.5.1536 = STRING: \"-c /opt/scripts/check_host.sh svc XjH7VCehowpR1xZB\"\\niso.3.6.1.2.1.25.4.2.1.5.1562 = STRING: \"-bd -q30m\"\\niso.3.6.1.2.1.25.4.2.1.5.1976 = STRING: \"-k start\"\\niso.3.6.1.2.1.25.4.2.1.5.2081 = STRING: \"-k start\"\\niso.3.6.1.2.1.25.4.2.1.5.2115 = STRING: \"-d /usr/local/nagios/etc/nagios.cfg\"\\niso.3.6.1.2.1.25.4.2.1.5.2118 = STRING: \"--worker /usr/local/nagios/var/rw/nagios.qh\"\\niso.3.6.1.2.1.25.4.2.1.5.2119 = STRING: \"--worker /usr/local/nagios/var/rw/nagios.qh\"\\niso.3.6.1.2.1.25.4.2.1.5.2120 = STRING: \"--worker /usr/local/nagios/var/rw/nagios.qh\"\\niso.3.6.1.2.1.25.4.2.1.5.2121 = STRING: \"--worker /usr/local/nagios/var/rw/nagios.qh\"\\niso.3.6.1.2.1.25.4.2.1.5.2255 = STRING: \"-d /usr/local/nagios/etc/nagios.cfg\"'"
      ]
     },
     "execution_count": 20,
     "metadata": {},
     "output_type": "execute_result"
    }
   ],
   "source": [
    "with open(\"test.txt\") as inp:\n",
    "    data = inp.read()\n",
    "data"
   ]
  },
  {
   "cell_type": "code",
   "execution_count": null,
   "metadata": {},
   "outputs": [
    {
     "name": "stdout",
     "output_type": "stream",
     "text": [
      "Pinged your deployment. You successfully connected to MongoDB!\n"
     ]
    }
   ],
   "source": [
    "from pymongo import MongoClient\n",
    "from langchain.text_splitter import TokenTextSplitter\n",
    "\n",
    "\n",
    "uri = \"\"\n",
    "# Create a new client and connect to the server\n",
    "client = MongoClient(uri)\n",
    "# Send a ping to confirm a successful connection\n",
    "try:\n",
    "    client.admin.command('ping')\n",
    "    print(\"Pinged your deployment. You successfully connected to MongoDB!\")\n",
    "except Exception as e:\n",
    "    print(e)\n",
    "db = client['graph']\n",
    "collection = db['raw_data']\n"
   ]
  },
  {
   "cell_type": "code",
   "execution_count": 22,
   "metadata": {},
   "outputs": [],
   "source": [
    "# Create a document format for MongoDB\n",
    "document = {\n",
    "    'text': data\n",
    "}\n",
    "\n",
    "# Insert the document into the collection\n",
    "insert_result = collection.insert_one(document)"
   ]
  },
  {
   "cell_type": "code",
   "execution_count": 23,
   "metadata": {},
   "outputs": [
    {
     "name": "stdout",
     "output_type": "stream",
     "text": [
      "Document inserted with ID: 6734c1e971706e64a69c3c36\n"
     ]
    }
   ],
   "source": [
    "# Print the ID of the inserted document\n",
    "print(\"Document inserted with ID:\", insert_result.inserted_id)"
   ]
  },
  {
   "cell_type": "code",
   "execution_count": 24,
   "metadata": {},
   "outputs": [
    {
     "name": "stdout",
     "output_type": "stream",
     "text": [
      "> nmap $target -p- -T4 -Pn --open --reason\n",
      "Nmap scan report for 10.10.11.248\n",
      "Host is up, received user-set (0.057s latency).\n",
      "Not shown: 63049 closed tcp ports (conn-refused), 2481 filtered tcp ports (no-response)\n",
      "Some closed ports may be reported as filtered due to --defeat-rst-ratelimit\n",
      "PORT     STATE SERVICE REASON\n",
      "22/tcp   open  ssh     syn-ack\n",
      "80/tcp   open  http    syn-ack\n",
      "389/tcp  open  ldap    syn-ack\n",
      "443/tcp  open  https   syn-ack\n",
      "5667/tcp open  unknown syn-ack\n",
      " \n",
      "Nmap done: 1 IP address (1 host up) scanned in 33.02 seconds\n",
      "\n",
      "> ffuf -c -w /usr/share/seclists/Discovery/Web-Content/directory-list-2.3-small.txt -t 100 -fc 404 -e .php,.html,.txt -u https://nagios.monitored.htb/nagiosxi/FUZZ\n",
      " \n",
      "        /'___\\  /'___\\           /'___\\      \n",
      "       /\\ \\__/ /\\ \\__/  __  __  /\\ \\__/      \n",
      "       \\ \\ ,__\\\\ \\ ,__\\/\\ \\/\\ \\ \\ \\ ,__\\     \n",
      "        \\ \\ \\_/ \\ \\ \\_/\\ \\ \\_\\ \\ \\ \\ \\_/      \n",
      "         \\ \\_\\   \\ \\_\\  \\ \\____/  \\ \\_\\      \n",
      "          \\/_/    \\/_/   \\/___/    \\/_/      \n",
      " \n",
      "       v2.1.0-dev\n",
      "________________________________________________\n",
      " \n",
      " :: Method           : GET\n",
      " :: URL              : https://nagios.monitored.htb/nagiosxi/FUZZ\n",
      " :: Wordlist         : FUZZ: /usr/share/seclists/Discovery/Web-Content/directory-list-2.3-small.txt\n",
      " :: Extensions       : .php .html .txt\n",
      " :: Follow redirects : false\n",
      " :: Calibration      : false\n",
      " :: Timeout          : 10\n",
      " :: Threads          : 100\n",
      " :: Matcher          : Response status: 200-299,301,302,307,401,403,405,500\n",
      " :: Filter           : Response status: 404\n",
      "________________________________________________\n",
      " \n",
      "images                  [Status: 301, Size: 340, Words: 20, Lines: 10, Duration: 48ms]\n",
      "index.php               [Status: 302, Size: 27, Words: 5, Lines: 1, Duration: 81ms]\n",
      "about                   [Status: 301, Size: 339, Words: 20, Lines: 10, Duration: 46ms]\n",
      "login.php               [Status: 200, Size: 26575, Words: 5452, Lines: 467, Duration: 96ms]\n",
      "help                    [Status: 301, Size: 338, Words: 20, Lines: 10, Duration: 45ms]\n",
      "tools                   [Status: 301, Size: 339, Words: 20, Lines: 10, Duration: 44ms]\n",
      "mobile                  [Status: 301, Size: 340, Words: 20, Lines: 10, Duration: 43ms]\n",
      "admin                   [Status: 301, Size: 339, Words: 20, Lines: 10, Duration: 43ms]\n",
      "reports                 [Status: 301, Size: 341, Words: 20, Lines: 10, Duration: 43ms]\n",
      "account                 [Status: 301, Size: 341, Words: 20, Lines: 10, Duration: 52ms]\n",
      "includes                [Status: 301, Size: 342, Words: 20, Lines: 10, Duration: 45ms]\n",
      "install.php             [Status: 302, Size: 0, Words: 1, Lines: 1, Duration: 82ms]\n",
      "backend                 [Status: 301, Size: 341, Words: 20, Lines: 10, Duration: 45ms]\n",
      "db                      [Status: 301, Size: 336, Words: 20, Lines: 10, Duration: 51ms]\n",
      "api                     [Status: 301, Size: 337, Words: 20, Lines: 10, Duration: 90ms]\n",
      "upgrade.php             [Status: 302, Size: 0, Words: 1, Lines: 1, Duration: 99ms]\n",
      "config                  [Status: 301, Size: 340, Words: 20, Lines: 10, Duration: 57ms]\n",
      "suggest.php             [Status: 200, Size: 27, Words: 5, Lines: 1, Duration: 100ms]\n",
      "views                   [Status: 301, Size: 339, Words: 20, Lines: 10, Duration: 51ms]\n",
      "sounds                  [Status: 403, Size: 286, Words: 20, Lines: 10, Duration: 45ms]\n",
      "rr.php                  [Status: 302, Size: 0, Words: 1, Lines: 1, Duration: 154ms]\n",
      "terminal                [Status: 200, Size: 5215, Words: 1247, Lines: 124, Duration: 159ms]\n",
      ".php                    [Status: 403, Size: 286, Words: 20, Lines: 10, Duration: 45ms]\n",
      ".html                   [Status: 403, Size: 286, Words: 20, Lines: 10, Duration: 47ms]\n",
      " \n",
      ":: Progress: [350600/350600] :: Job [1/1] :: 1196 req/sec :: Duration: [0:15:18] :: Errors: 1099::\n",
      "\n",
      "> nmap $target -p389 -script discovery\n",
      "Pre-scan script results:\n",
      "|_hostmap-robtex: *TEMPORARILY DISABLED* due to changes in Robtex's API. See https://www.robtex.com/api/\n",
      "|_http-robtex-shared-ns: *TEMPORARILY DISABLED* due to changes in Robtex's API. See https://www.robtex.com/api/\n",
      "| targets-asn:\n",
      "|_  targets-asn.asn is a mandatory parameter\n",
      "Nmap scan report for monitored.htb (10.10.11.248)\n",
      "Host is up (0.043s latency).\n",
      " \n",
      "PORT    STATE SERVICE\n",
      "389/tcp open  ldap\n",
      "| ldap-search:\n",
      "|   Context: dc=monitored,dc=htb\n",
      "|     dn: dc=monitored,dc=htb\n",
      "|         objectClass: top\n",
      "|         objectClass: dcObject\n",
      "|         objectClass: organization\n",
      "|         o: monitored.htb\n",
      "|_        dc: monitored\n",
      "| ldap-rootdse:\n",
      "| LDAP Results\n",
      "|   <ROOT>\n",
      "|       namingContexts: dc=monitored,dc=htb\n",
      "|       supportedControl: 2.16.840.1.113730.3.4.18\n",
      "|       supportedControl: 2.16.840.1.113730.3.4.2\n",
      "|       supportedControl: 1.3.6.1.4.1.4203.1.10.1\n",
      "|       supportedControl: 1.3.6.1.1.22\n",
      "|       supportedControl: 1.2.840.113556.1.4.319\n",
      "|       supportedControl: 1.2.826.0.1.3344810.2.3\n",
      "|       supportedControl: 1.3.6.1.1.13.2\n",
      "|       supportedControl: 1.3.6.1.1.13.1\n",
      "|       supportedControl: 1.3.6.1.1.12\n",
      "|       supportedExtension: 1.3.6.1.4.1.4203.1.11.1\n",
      "|       supportedExtension: 1.3.6.1.4.1.4203.1.11.3\n",
      "|       supportedExtension: 1.3.6.1.1.8\n",
      "|       supportedLDAPVersion: 3\n",
      "|       supportedSASLMechanisms: DIGEST-MD5\n",
      "|       supportedSASLMechanisms: NTLM\n",
      "|       supportedSASLMechanisms: CRAM-MD5\n",
      "|_      subschemaSubentry: cn=Subschema\n",
      " \n",
      "Host script results:\n",
      "|_fcrdns: FAIL (No PTR record)\n",
      "| dns-brute:\n",
      "|_  DNS Brute-force hostnames: No results.\n",
      " \n",
      "Nmap done: 1 IP address (1 host up) scanned in 16.82 seconds\n",
      "\n",
      "> snmpwalk -c public -v1 -t 10 $target\n",
      "iso.3.6.1.2.1.1.1.0 = STRING: \"Linux monitored 5.10.0-27-amd64 #1 SMP Debian 5.10.205-2 (2023-12-31) x86_64\"\n",
      "iso.3.6.1.2.1.1.2.0 = OID: iso.3.6.1.4.1.8072.3.2.10\n",
      "iso.3.6.1.2.1.1.3.0 = Timeticks: (1036224) 2:52:42.24\n",
      "iso.3.6.1.2.1.1.4.0 = STRING: \"Me <root@monitored.htb>\"\n",
      "iso.3.6.1.2.1.1.5.0 = STRING: \"monitored\"\n",
      "iso.3.6.1.2.1.1.6.0 = STRING: \"Sitting on the Dock of the Bay\"\n",
      "iso.3.6.1.2.1.1.7.0 = INTEGER: 72\n",
      "iso.3.6.1.2.1.1.8.0 = Timeticks: (1550) 0:00:15.50\n",
      "â€¦\n",
      "iso.3.6.1.2.1.1.9.1.3.1 = STRING: \"The SNMP Management Architecture MIB.\"\n",
      "iso.3.6.1.2.1.1.9.1.3.2 = STRING: \"The MIB for Message Processing and Dispatching.\"\n",
      "iso.3.6.1.2.1.1.9.1.3.3 = STRING: \"The management information definitions for the SNMP User-based Security Model.\"\n",
      "iso.3.6.1.2.1.1.9.1.3.4 = STRING: \"The MIB module for SNMPv2 entities\"\n",
      "iso.3.6.1.2.1.1.9.1.3.5 = STRING: \"View-based Access Control Model for SNMP.\"\n",
      "iso.3.6.1.2.1.1.9.1.3.6 = STRING: \"The MIB module for managing TCP implementations\"\n",
      "iso.3.6.1.2.1.1.9.1.3.7 = STRING: \"The MIB module for managing UDP implementations\"\n",
      "iso.3.6.1.2.1.1.9.1.3.8 = STRING: \"The MIB module for managing IP and ICMP implementations\"\n",
      "iso.3.6.1.2.1.1.9.1.3.9 = STRING: \"The MIB modules for managing SNMP Notification, plus filtering.\"\n",
      "iso.3.6.1.2.1.1.9.1.3.10 = STRING: \"The MIB module for logging SNMP Notifications.\"\n",
      "iso.3.6.1.2.1.1.9.1.3.11 = STRING: \"The MIB module for logging SNMP Notifications.\"\n",
      "iso.3.6.1.2.1.25.1.4.0 = STRING: \"BOOT_IMAGE=/boot/vmlinuz-5.10.0-27-amd64 root=UUID=d8761c35-f10f-4e79-b24c-38a65ad7ce1b ro net.ifnames=0 biosdevname=0 quiet\"\n",
      "â€¦\n",
      "iso.3.6.1.2.1.25.4.2.1.5.492 = STRING: \"--config /etc/laurel/config.toml\"\n",
      "iso.3.6.1.2.1.25.4.2.1.5.522 = \"\"\n",
      "iso.3.6.1.2.1.25.4.2.1.5.569 = STRING: \"-d -q -s\"\n",
      "iso.3.6.1.2.1.25.4.2.1.5.571 = STRING: \"-f\"\n",
      "iso.3.6.1.2.1.25.4.2.1.5.572 = STRING: \"--system --address=systemd: --nofork --nopidfile --systemd-activation --syslog-only\"\n",
      "iso.3.6.1.2.1.25.4.2.1.5.575 = STRING: \"-n -iNONE\"\n",
      "iso.3.6.1.2.1.25.4.2.1.5.577 = \"\"\n",
      "iso.3.6.1.2.1.25.4.2.1.5.578 = STRING: \"-u -s -O /run/wpa_supplicant\"\n",
      "iso.3.6.1.2.1.25.4.2.1.5.588 = STRING: \"-f\"\n",
      "iso.3.6.1.2.1.25.4.2.1.5.609 = STRING: \"-c sleep 30; sudo -u svc /bin/bash -c /opt/scripts/check_host.sh svc XjH7VCehowpR1xZB \"\n",
      "iso.3.6.1.2.1.25.4.2.1.5.621 = STRING: \"-4 -v -i -pf /run/dhclient.eth0.pid -lf /var/lib/dhcp/dhclient.eth0.leases -I -df /var/lib/dhcp/dhclient6.eth0.leases eth0\"\n",
      "iso.3.6.1.2.1.25.4.2.1.5.686 = \"\"\n",
      "iso.3.6.1.2.1.25.4.2.1.5.687 = \"\"\n",
      "iso.3.6.1.2.1.25.4.2.1.5.731 = STRING: \"-f /usr/local/nagios/etc/pnp/npcd.cfg\"\n",
      "iso.3.6.1.2.1.25.4.2.1.5.737 = STRING: \"-LOw -f -p /run/snmptrapd.pid\"\n",
      "iso.3.6.1.2.1.25.4.2.1.5.750 = STRING: \"-LOw -u Debian-snmp -g Debian-snmp -I -smux mteTrigger mteTriggerConf -f -p /run/snmpd.pid\"\n",
      "iso.3.6.1.2.1.25.4.2.1.5.759 = STRING: \"-o -p -- \\\\u --noclear tty1 linux\"\n",
      "iso.3.6.1.2.1.25.4.2.1.5.770 = STRING: \"-p /var/run/ntpd.pid -g -u 108:116\"\n",
      "iso.3.6.1.2.1.25.4.2.1.5.780 = \"\"\n",
      "iso.3.6.1.2.1.25.4.2.1.5.816 = STRING: \"-q --background=/var/run/shellinaboxd.pid -c /var/lib/shellinabox -p 7878 -u shellinabox -g shellinabox --user-css Black on Whit\"\n",
      "iso.3.6.1.2.1.25.4.2.1.5.818 = STRING: \"-h ldap:/// ldapi:/// -g openldap -u openldap -F /etc/ldap/slapd.d\"\n",
      "iso.3.6.1.2.1.25.4.2.1.5.819 = STRING: \"-q --background=/var/run/shellinaboxd.pid -c /var/lib/shellinabox -p 7878 -u shellinabox -g shellinabox --user-css Black on Whit\"\n",
      "iso.3.6.1.2.1.25.4.2.1.5.826 = STRING: \"-k start\"\n",
      "iso.3.6.1.2.1.25.4.2.1.5.834 = STRING: \"-D /var/lib/postgresql/13/main -c config_file=/etc/postgresql/13/main/postgresql.conf\"\n",
      "iso.3.6.1.2.1.25.4.2.1.5.1535 = STRING: \"-u svc /bin/bash -c /opt/scripts/check_host.sh svc XjH7VCehowpR1xZB\"\n",
      "iso.3.6.1.2.1.25.4.2.1.5.1536 = STRING: \"-c /opt/scripts/check_host.sh svc XjH7VCehowpR1xZB\"\n",
      "iso.3.6.1.2.1.25.4.2.1.5.1562 = STRING: \"-bd -q30m\"\n",
      "iso.3.6.1.2.1.25.4.2.1.5.1976 = STRING: \"-k start\"\n",
      "iso.3.6.1.2.1.25.4.2.1.5.2081 = STRING: \"-k start\"\n",
      "iso.3.6.1.2.1.25.4.2.1.5.2115 = STRING: \"-d /usr/local/nagios/etc/nagios.cfg\"\n",
      "iso.3.6.1.2.1.25.4.2.1.5.2118 = STRING: \"--worker /usr/local/nagios/var/rw/nagios.qh\"\n",
      "iso.3.6.1.2.1.25.4.2.1.5.2119 = STRING: \"--worker /usr/local/nagios/var/rw/nagios.qh\"\n",
      "iso.3.6.1.2.1.25.4.2.1.5.2120 = STRING: \"--worker /usr/local/nagios/var/rw/nagios.qh\"\n",
      "iso.3.6.1.2.1.25.4.2.1.5.2121 = STRING: \"--worker /usr/local/nagios/var/rw/nagios.qh\"\n",
      "iso.3.6.1.2.1.25.4.2.1.5.2255 = STRING: \"-d /usr/local/nagios/etc/nagios.cfg\"\n"
     ]
    }
   ],
   "source": [
    "\n",
    "# Load text from MongoDB\n",
    "latest_document = collection.find_one(\n",
    "    {},  # No filter condition; adjust if necessary\n",
    "    sort=[('created_at', -1)]  # Sort by 'created_at' in descending order\n",
    ")\n",
    "\n",
    "if latest_document:\n",
    "    # Extract and wrap in a Document object for further processing\n",
    "    latest_text = latest_document['text']\n",
    "    print(latest_text)\n",
    "else:\n",
    "    print(\"No documents found.\")"
   ]
  },
  {
   "cell_type": "code",
   "execution_count": 25,
   "metadata": {},
   "outputs": [],
   "source": [
    "with open('test2.txt','a') as file:\n",
    "    file.write(latest_text)"
   ]
  },
  {
   "cell_type": "code",
   "execution_count": 27,
   "metadata": {},
   "outputs": [],
   "source": [
    "loader = TextLoader(file_path=\"test2.txt\")\n",
    "raw_documents = loader.load()"
   ]
  },
  {
   "cell_type": "code",
   "execution_count": 28,
   "metadata": {},
   "outputs": [],
   "source": [
    "# Define chunking strategy\n",
    "text_splitter = TokenTextSplitter(chunk_size=512, chunk_overlap=24)\n",
    "documents = text_splitter.split_documents(raw_documents[:3])"
   ]
  },
  {
   "cell_type": "code",
   "execution_count": null,
   "metadata": {},
   "outputs": [
    {
     "data": {
      "text/plain": [
       "[Document(metadata={'source': 'test2.txt'}, page_content=\"> nmap $target -p- -T4 -Pn --open --reason\\nNmap scan report for 10.10.11.248\\nHost is up, received user-set (0.057s latency).\\nNot shown: 63049 closed tcp ports (conn-refused), 2481 filtered tcp ports (no-response)\\nSome closed ports may be reported as filtered due to --defeat-rst-ratelimit\\nPORT     STATE SERVICE REASON\\n22/tcp   open  ssh     syn-ack\\n80/tcp   open  http    syn-ack\\n389/tcp  open  ldap    syn-ack\\n443/tcp  open  https   syn-ack\\n5667/tcp open  unknown syn-ack\\n \\nNmap done: 1 IP address (1 host up) scanned in 33.02 seconds\\n\\n> ffuf -c -w /usr/share/seclists/Discovery/Web-Content/directory-list-2.3-small.txt -t 100 -fc 404 -e .php,.html,.txt -u https://nagios.monitored.htb/nagiosxi/FUZZ\\n \\n        /'___\\\\  /'___\\\\           /'___\\\\      \\n       /\\\\ \\\\__/ /\\\\ \\\\__/  __  __  /\\\\ \\\\__/      \\n       \\\\ \\\\ ,__\\\\\\\\ \\\\ ,__\\\\/\\\\ \\\\/\\\\ \\\\ \\\\ \\\\ ,__\\\\     \\n        \\\\ \\\\ \\\\_/ \\\\ \\\\ \\\\_/\\\\ \\\\ \\\\_\\\\ \\\\ \\\\ \\\\ \\\\_/      \\n         \\\\ \\\\_\\\\   \\\\ \\\\_\\\\  \\\\ \\\\____/  \\\\ \\\\_\\\\      \\n          \\\\/_/    \\\\/_/   \\\\/___/    \\\\/_/      \\n \\n       v2.1.0-dev\\n________________________________________________\\n \\n :: Method       \"),\n",
       " Document(metadata={'source': 'test2.txt'}, page_content='  v2.1.0-dev\\n________________________________________________\\n \\n :: Method           : GET\\n :: URL              : https://nagios.monitored.htb/nagiosxi/FUZZ\\n :: Wordlist         : FUZZ: /usr/share/seclists/Discovery/Web-Content/directory-list-2.3-small.txt\\n :: Extensions       : .php .html .txt\\n :: Follow redirects : false\\n :: Calibration      : false\\n :: Timeout          : 10\\n :: Threads          : 100\\n :: Matcher          : Response status: 200-299,301,302,307,401,403,405,500\\n :: Filter           : Response status: 404\\n________________________________________________\\n \\nimages                  [Status: 301, Size: 340, Words: 20, Lines: 10, Duration: 48ms]\\nindex.php               [Status: 302, Size: 27, Words: 5, Lines: 1, Duration: 81ms]\\nabout                   [Status: 301, Size: 339, Words: 20, Lines: 10, Duration: 46ms]\\nlogin.php               [Status: 200, Size: 26575, Words: 5452, Lines: 467, Duration: 96ms]\\nhelp                    [Status: 301, Size: 338, Words: 20, Lines: 10, Duration: 45ms]\\ntools                   [Status: 301, Size: 339, Words: 20, Lines: 10, Duration: 44ms]\\nmobile                  [Status: 301, Size: 340, Words:'),\n",
       " Document(metadata={'source': 'test2.txt'}, page_content='              [Status: 301, Size: 340, Words: 20, Lines: 10, Duration: 43ms]\\nadmin                   [Status: 301, Size: 339, Words: 20, Lines: 10, Duration: 43ms]\\nreports                 [Status: 301, Size: 341, Words: 20, Lines: 10, Duration: 43ms]\\naccount                 [Status: 301, Size: 341, Words: 20, Lines: 10, Duration: 52ms]\\nincludes                [Status: 301, Size: 342, Words: 20, Lines: 10, Duration: 45ms]\\ninstall.php             [Status: 302, Size: 0, Words: 1, Lines: 1, Duration: 82ms]\\nbackend                 [Status: 301, Size: 341, Words: 20, Lines: 10, Duration: 45ms]\\ndb                      [Status: 301, Size: 336, Words: 20, Lines: 10, Duration: 51ms]\\napi                     [Status: 301, Size: 337, Words: 20, Lines: 10, Duration: 90ms]\\nupgrade.php             [Status: 302, Size: 0, Words: 1, Lines: 1, Duration: 99ms]\\nconfig                  [Status: 301, Size: 340, Words: 20, Lines: 10, Duration: 57ms]\\nsuggest.php             [Status: 200, Size: 27, Words: 5, Lines: 1, Duration: 100ms]\\nviews                   [Status: 301, Size: 339, Words'),\n",
       " Document(metadata={'source': 'test2.txt'}, page_content=\"               [Status: 301, Size: 339, Words: 20, Lines: 10, Duration: 51ms]\\nsounds                  [Status: 403, Size: 286, Words: 20, Lines: 10, Duration: 45ms]\\nrr.php                  [Status: 302, Size: 0, Words: 1, Lines: 1, Duration: 154ms]\\nterminal                [Status: 200, Size: 5215, Words: 1247, Lines: 124, Duration: 159ms]\\n.php                    [Status: 403, Size: 286, Words: 20, Lines: 10, Duration: 45ms]\\n.html                   [Status: 403, Size: 286, Words: 20, Lines: 10, Duration: 47ms]\\n \\n:: Progress: [350600/350600] :: Job [1/1] :: 1196 req/sec :: Duration: [0:15:18] :: Errors: 1099::\\n\\n> nmap $target -p389 -script discovery\\nPre-scan script results:\\n|_hostmap-robtex: *TEMPORARILY DISABLED* due to changes in Robtex's API. See https://www.robtex.com/api/\\n|_http-robtex-shared-ns: *TEMPORARILY DISABLED* due to changes in Robtex's API. See https://www.robtex.com/api/\\n| targets-asn:\\n|_  targets-asn.asn is a mandatory parameter\\nNmap scan report for monitored.htb (10.10.11.248)\\nHost is up (0.043s latency).\\n \\nPORT    STATE SERVICE\\n389/tcp open  ldap\\n| ldap-search:\\n|   Context: dc=monitored,dc=htb\\n|     dn: dc=monitored,dc=htb\\n|   \"),\n",
       " Document(metadata={'source': 'test2.txt'}, page_content='b\\n|     dn: dc=monitored,dc=htb\\n|         objectClass: top\\n|         objectClass: dcObject\\n|         objectClass: organization\\n|         o: monitored.htb\\n|_        dc: monitored\\n| ldap-rootdse:\\n| LDAP Results\\n|   <ROOT>\\n|       namingContexts: dc=monitored,dc=htb\\n|       supportedControl: 2.16.840.1.113730.3.4.18\\n|       supportedControl: 2.16.840.1.113730.3.4.2\\n|       supportedControl: 1.3.6.1.4.1.4203.1.10.1\\n|       supportedControl: 1.3.6.1.1.22\\n|       supportedControl: 1.2.840.113556.1.4.319\\n|       supportedControl: 1.2.826.0.1.3344810.2.3\\n|       supportedControl: 1.3.6.1.1.13.2\\n|       supportedControl: 1.3.6.1.1.13.1\\n|       supportedControl: 1.3.6.1.1.12\\n|       supportedExtension: 1.3.6.1.4.1.4203.1.11.1\\n|       supportedExtension: 1.3.6.1.4.1.4203.1.11.3\\n|       supportedExtension: 1.3.6.1.1.8\\n|       supportedLDAPVersion: 3\\n|       supportedSASLMechanisms: DIGEST-MD5\\n|       supportedSASLMechanisms: NTLM\\n'),\n",
       " Document(metadata={'source': 'test2.txt'}, page_content='EST-MD5\\n|       supportedSASLMechanisms: NTLM\\n|       supportedSASLMechanisms: CRAM-MD5\\n|_      subschemaSubentry: cn=Subschema\\n \\nHost script results:\\n|_fcrdns: FAIL (No PTR record)\\n| dns-brute:\\n|_  DNS Brute-force hostnames: No results.\\n \\nNmap done: 1 IP address (1 host up) scanned in 16.82 seconds\\n\\n> snmpwalk -c public -v1 -t 10 $target\\niso.3.6.1.2.1.1.1.0 = STRING: \"Linux monitored 5.10.0-27-amd64 #1 SMP Debian 5.10.205-2 (2023-12-31) x86_64\"\\niso.3.6.1.2.1.1.2.0 = OID: iso.3.6.1.4.1.8072.3.2.10\\niso.3.6.1.2.1.1.3.0 = Timeticks: (1036224) 2:52:42.24\\niso.3.6.1.2.1.1.4.0 = STRING: \"Me <root@monitored.htb>\"\\niso.3.6.1.2.1.1.5.0 = STRING: \"monitored\"\\niso.3.6.1.2.1.1.6.0 = STRING: \"Sitting on the Dock of the Bay\"\\niso.3.6.1.2.1.1.7.0 = INTEGER: 72\\niso.3.6.1.2.1.1.8.0 = Timeticks: (1550) 0:00:15.50\\nâ€¦\\niso.3.6.1.2.1.1.9.1.3.1 = STRING: \"The SNMP Management Architecture MIB.\"\\niso.3.6.1.2.1.1.9.1.3.2 = STRING: \"The MIB for Message Processing and Dispatching.\"\\niso'),\n",
       " Document(metadata={'source': 'test2.txt'}, page_content='9.1.3.2 = STRING: \"The MIB for Message Processing and Dispatching.\"\\niso.3.6.1.2.1.1.9.1.3.3 = STRING: \"The management information definitions for the SNMP User-based Security Model.\"\\niso.3.6.1.2.1.1.9.1.3.4 = STRING: \"The MIB module for SNMPv2 entities\"\\niso.3.6.1.2.1.1.9.1.3.5 = STRING: \"View-based Access Control Model for SNMP.\"\\niso.3.6.1.2.1.1.9.1.3.6 = STRING: \"The MIB module for managing TCP implementations\"\\niso.3.6.1.2.1.1.9.1.3.7 = STRING: \"The MIB module for managing UDP implementations\"\\niso.3.6.1.2.1.1.9.1.3.8 = STRING: \"The MIB module for managing IP and ICMP implementations\"\\niso.3.6.1.2.1.1.9.1.3.9 = STRING: \"The MIB modules for managing SNMP Notification, plus filtering.\"\\niso.3.6.1.2.1.1.9.1.3.10 = STRING: \"The MIB module for logging SNMP Notifications.\"\\niso.3.6.1.2.1.1.9.1.3.11 = STRING: \"The MIB module for logging SNMP Notifications.\"\\niso.3.6.1.2.1.25.1.4.0 = STRING: \"BOOT_IMAGE=/boot/vmlinuz-5.10.0-27-amd64 root=UUID=d8761c35-f10f-4e79-b24c-38a65ad7ce1b ro net.ifnames=0 biosdevname=0 quiet\"\\nâ€¦\\niso.3.6.1.2.1.25.4.2.1.5.492 = STRING: \"--config /etc/laurel/config.toml\"\\niso.3.6'),\n",
       " Document(metadata={'source': 'test2.txt'}, page_content=' STRING: \"--config /etc/laurel/config.toml\"\\niso.3.6.1.2.1.25.4.2.1.5.522 = \"\"\\niso.3.6.1.2.1.25.4.2.1.5.569 = STRING: \"-d -q -s\"\\niso.3.6.1.2.1.25.4.2.1.5.571 = STRING: \"-f\"\\niso.3.6.1.2.1.25.4.2.1.5.572 = STRING: \"--system --address=systemd: --nofork --nopidfile --systemd-activation --syslog-only\"\\niso.3.6.1.2.1.25.4.2.1.5.575 = STRING: \"-n -iNONE\"\\niso.3.6.1.2.1.25.4.2.1.5.577 = \"\"\\niso.3.6.1.2.1.25.4.2.1.5.578 = STRING: \"-u -s -O /run/wpa_supplicant\"\\niso.3.6.1.2.1.25.4.2.1.5.588 = STRING: \"-f\"\\niso.3.6.1.2.1.25.4.2.1.5.609 = STRING: \"-c sleep 30; sudo -u svc /bin/bash -c /opt/scripts/check_host.sh svc XjH7VCehowpR1xZB \"\\niso.3.6.1.2.1.25.4.2.1.5.621 = STRING: \"-4 -v -i -pf /run/dhclient.eth0.pid -lf /var/lib/dhcp/dhclient.eth0.leases -I -df /var/lib/dhcp/dhclient6.eth0.leases eth0\"\\niso.3.6.1.2.1.25.4.2.1.5.686 = \"\"\\niso.3.6.1.2.1.25.4.2.1.5.687'),\n",
       " Document(metadata={'source': 'test2.txt'}, page_content='\\niso.3.6.1.2.1.25.4.2.1.5.687 = \"\"\\niso.3.6.1.2.1.25.4.2.1.5.731 = STRING: \"-f /usr/local/nagios/etc/pnp/npcd.cfg\"\\niso.3.6.1.2.1.25.4.2.1.5.737 = STRING: \"-LOw -f -p /run/snmptrapd.pid\"\\niso.3.6.1.2.1.25.4.2.1.5.750 = STRING: \"-LOw -u Debian-snmp -g Debian-snmp -I -smux mteTrigger mteTriggerConf -f -p /run/snmpd.pid\"\\niso.3.6.1.2.1.25.4.2.1.5.759 = STRING: \"-o -p -- \\\\\\\\u --noclear tty1 linux\"\\niso.3.6.1.2.1.25.4.2.1.5.770 = STRING: \"-p /var/run/ntpd.pid -g -u 108:116\"\\niso.3.6.1.2.1.25.4.2.1.5.780 = \"\"\\niso.3.6.1.2.1.25.4.2.1.5.816 = STRING: \"-q --background=/var/run/shellinaboxd.pid -c /var/lib/shellinabox -p 7878 -u shellinabox -g shellinabox --user-css Black on Whit\"\\niso.3.6.1.2.1.25.4.2.1.5.818 = STRING: \"-h ldap:/// ldapi:/// -g openldap -u openldap -F /etc/ldap/slapd.d\"\\niso.3.6.1.2.1.25.4.2.1.5.819 = STRING: \"-q --background=/var/run/shellinaboxd.pid -c /var/lib/shellinabox -p 78'),\n",
       " Document(metadata={'source': 'test2.txt'}, page_content='/run/shellinaboxd.pid -c /var/lib/shellinabox -p 7878 -u shellinabox -g shellinabox --user-css Black on Whit\"\\niso.3.6.1.2.1.25.4.2.1.5.826 = STRING: \"-k start\"\\niso.3.6.1.2.1.25.4.2.1.5.834 = STRING: \"-D /var/lib/postgresql/13/main -c config_file=/etc/postgresql/13/main/postgresql.conf\"\\niso.3.6.1.2.1.25.4.2.1.5.1535 = STRING: \"-u svc /bin/bash -c /opt/scripts/check_host.sh svc XjH7VCehowpR1xZB\"\\niso.3.6.1.2.1.25.4.2.1.5.1536 = STRING: \"-c /opt/scripts/check_host.sh svc XjH7VCehowpR1xZB\"\\niso.3.6.1.2.1.25.4.2.1.5.1562 = STRING: \"-bd -q30m\"\\niso.3.6.1.2.1.25.4.2.1.5.1976 = STRING: \"-k start\"\\niso.3.6.1.2.1.25.4.2.1.5.2081 = STRING: \"-k start\"\\niso.3.6.1.2.1.25.4.2.1.5.2115 = STRING: \"-d /usr/local/nagios/etc/nagios.cfg\"\\niso.3.6.1.2.1.25.4.2.1.5.2118 = STRING: \"--worker /usr/local/nagios/var/rw/nagios.qh\"\\niso.3.6.1.2.1.25.4.2.1.5.2119 = STRING: \"--worker /usr/local/nagios/var/rw/n'),\n",
       " Document(metadata={'source': 'test2.txt'}, page_content='.2119 = STRING: \"--worker /usr/local/nagios/var/rw/nagios.qh\"\\niso.3.6.1.2.1.25.4.2.1.5.2120 = STRING: \"--worker /usr/local/nagios/var/rw/nagios.qh\"\\niso.3.6.1.2.1.25.4.2.1.5.2121 = STRING: \"--worker /usr/local/nagios/var/rw/nagios.qh\"\\niso.3.6.1.2.1.25.4.2.1.5.2255 = STRING: \"-d /usr/local/nagios/etc/nagios.cfg\"> nmap $target -p- -T4 -Pn --open --reason\\nNmap scan report for 10.10.11.248\\nHost is up, received user-set (0.057s latency).\\nNot shown: 63049 closed tcp ports (conn-refused), 2481 filtered tcp ports (no-response)\\nSome closed ports may be reported as filtered due to --defeat-rst-ratelimit\\nPORT     STATE SERVICE REASON\\n22/tcp   open  ssh     syn-ack\\n80/tcp   open  http    syn-ack\\n389/tcp  open  ldap    syn-ack\\n443/tcp  open  https   syn-ack\\n5667/tcp open  unknown syn-ack\\n \\nNmap done: 1 IP address (1 host up) scanned in 33.02 seconds\\n\\n> ffuf -c -w /usr/share/seclists/Discovery/Web-Content/directory-list-2.3-small.txt -t 100 -fc 404 -e .php,.html,.txt -u https://nagios.monitored.htb/nagiosxi/FUZZ\\n \\n        /\\'___\\\\  /\\'___\\\\           /\\'___\\\\      \\n       /\\\\ \\\\__/ /\\\\ \\\\__/  __  __ '),\n",
       " Document(metadata={'source': 'test2.txt'}, page_content='  \\n       /\\\\ \\\\__/ /\\\\ \\\\__/  __  __  /\\\\ \\\\__/      \\n       \\\\ \\\\ ,__\\\\\\\\ \\\\ ,__\\\\/\\\\ \\\\/\\\\ \\\\ \\\\ \\\\ ,__\\\\     \\n        \\\\ \\\\ \\\\_/ \\\\ \\\\ \\\\_/\\\\ \\\\ \\\\_\\\\ \\\\ \\\\ \\\\ \\\\_/      \\n         \\\\ \\\\_\\\\   \\\\ \\\\_\\\\  \\\\ \\\\____/  \\\\ \\\\_\\\\      \\n          \\\\/_/    \\\\/_/   \\\\/___/    \\\\/_/      \\n \\n       v2.1.0-dev\\n________________________________________________\\n \\n :: Method           : GET\\n :: URL              : https://nagios.monitored.htb/nagiosxi/FUZZ\\n :: Wordlist         : FUZZ: /usr/share/seclists/Discovery/Web-Content/directory-list-2.3-small.txt\\n :: Extensions       : .php .html .txt\\n :: Follow redirects : false\\n :: Calibration      : false\\n :: Timeout          : 10\\n :: Threads          : 100\\n :: Matcher          : Response status: 200-299,301,302,307,401,403,405,500\\n :: Filter           : Response status: 404\\n________________________________________________\\n \\nimages                  [Status: 301, Size: 340, Words: 20, Lines: 10, Duration: 48ms]\\nindex.php               [Status: 302, Size: 27, Words: 5, Lines: 1, Duration: 81ms]\\nabout                 '),\n",
       " Document(metadata={'source': 'test2.txt'}, page_content=' Duration: 81ms]\\nabout                   [Status: 301, Size: 339, Words: 20, Lines: 10, Duration: 46ms]\\nlogin.php               [Status: 200, Size: 26575, Words: 5452, Lines: 467, Duration: 96ms]\\nhelp                    [Status: 301, Size: 338, Words: 20, Lines: 10, Duration: 45ms]\\ntools                   [Status: 301, Size: 339, Words: 20, Lines: 10, Duration: 44ms]\\nmobile                  [Status: 301, Size: 340, Words: 20, Lines: 10, Duration: 43ms]\\nadmin                   [Status: 301, Size: 339, Words: 20, Lines: 10, Duration: 43ms]\\nreports                 [Status: 301, Size: 341, Words: 20, Lines: 10, Duration: 43ms]\\naccount                 [Status: 301, Size: 341, Words: 20, Lines: 10, Duration: 52ms]\\nincludes                [Status: 301, Size: 342, Words: 20, Lines: 10, Duration: 45ms]\\ninstall.php             [Status: 302, Size: 0, Words: 1, Lines: 1, Duration: 82ms]\\nbackend                 [Status: 301, Size: 341, Words: 20, Lines: 10, Duration: 45ms]\\ndb                      [Status: 301, Size: 336, Words: 20, Lines: 10, Duration: 51ms]\\napi         '),\n",
       " Document(metadata={'source': 'test2.txt'}, page_content=' Words: 20, Lines: 10, Duration: 51ms]\\napi                     [Status: 301, Size: 337, Words: 20, Lines: 10, Duration: 90ms]\\nupgrade.php             [Status: 302, Size: 0, Words: 1, Lines: 1, Duration: 99ms]\\nconfig                  [Status: 301, Size: 340, Words: 20, Lines: 10, Duration: 57ms]\\nsuggest.php             [Status: 200, Size: 27, Words: 5, Lines: 1, Duration: 100ms]\\nviews                   [Status: 301, Size: 339, Words: 20, Lines: 10, Duration: 51ms]\\nsounds                  [Status: 403, Size: 286, Words: 20, Lines: 10, Duration: 45ms]\\nrr.php                  [Status: 302, Size: 0, Words: 1, Lines: 1, Duration: 154ms]\\nterminal                [Status: 200, Size: 5215, Words: 1247, Lines: 124, Duration: 159ms]\\n.php                    [Status: 403, Size: 286, Words: 20, Lines: 10, Duration: 45ms]\\n.html                   [Status: 403, Size: 286, Words: 20, Lines: 10, Duration: 47ms]\\n \\n:: Progress: [350600/350600] :: Job [1/1] :: 1196 req/sec :: Duration: [0:15:18] :: Errors: 1099::\\n\\n> nmap $target -p389 -script discovery\\nPre-scan script results:\\n|_hostmap-robtex: *TEMPORARILY DISABLED*'),\n",
       " Document(metadata={'source': 'test2.txt'}, page_content=\"-scan script results:\\n|_hostmap-robtex: *TEMPORARILY DISABLED* due to changes in Robtex's API. See https://www.robtex.com/api/\\n|_http-robtex-shared-ns: *TEMPORARILY DISABLED* due to changes in Robtex's API. See https://www.robtex.com/api/\\n| targets-asn:\\n|_  targets-asn.asn is a mandatory parameter\\nNmap scan report for monitored.htb (10.10.11.248)\\nHost is up (0.043s latency).\\n \\nPORT    STATE SERVICE\\n389/tcp open  ldap\\n| ldap-search:\\n|   Context: dc=monitored,dc=htb\\n|     dn: dc=monitored,dc=htb\\n|         objectClass: top\\n|         objectClass: dcObject\\n|         objectClass: organization\\n|         o: monitored.htb\\n|_        dc: monitored\\n| ldap-rootdse:\\n| LDAP Results\\n|   <ROOT>\\n|       namingContexts: dc=monitored,dc=htb\\n|       supportedControl: 2.16.840.1.113730.3.4.18\\n|       supportedControl: 2.16.840.1.113730.3.4.2\\n|       supportedControl: 1.3.6.1.4.1.4203.1.10.1\\n|       supportedControl: 1.3.6.1.1.22\\n|       supportedControl: 1.2.840.113556.1.4.319\\n|       supportedControl: 1.2.826.0.1.3344810.2.3\\n|       supportedControl: 1.3.6.1.1.13.2\\n|      \"),\n",
       " Document(metadata={'source': 'test2.txt'}, page_content=' supportedControl: 1.3.6.1.1.13.2\\n|       supportedControl: 1.3.6.1.1.13.1\\n|       supportedControl: 1.3.6.1.1.12\\n|       supportedExtension: 1.3.6.1.4.1.4203.1.11.1\\n|       supportedExtension: 1.3.6.1.4.1.4203.1.11.3\\n|       supportedExtension: 1.3.6.1.1.8\\n|       supportedLDAPVersion: 3\\n|       supportedSASLMechanisms: DIGEST-MD5\\n|       supportedSASLMechanisms: NTLM\\n|       supportedSASLMechanisms: CRAM-MD5\\n|_      subschemaSubentry: cn=Subschema\\n \\nHost script results:\\n|_fcrdns: FAIL (No PTR record)\\n| dns-brute:\\n|_  DNS Brute-force hostnames: No results.\\n \\nNmap done: 1 IP address (1 host up) scanned in 16.82 seconds\\n\\n> snmpwalk -c public -v1 -t 10 $target\\niso.3.6.1.2.1.1.1.0 = STRING: \"Linux monitored 5.10.0-27-amd64 #1 SMP Debian 5.10.205-2 (2023-12-31) x86_64\"\\niso.3.6.1.2.1.1.2.0 = OID: iso.3.6.1.4.1.8072.3.2.10\\niso.3.6.1.2.1.1.3.0 = Timeticks: (1036224) 2:52:42.24\\niso.3.6.1.2.1.1.4.0 = STRING: \"Me <root@monitored.htb>\"\\niso.3.6.1.2.1.1'),\n",
       " Document(metadata={'source': 'test2.txt'}, page_content='Me <root@monitored.htb>\"\\niso.3.6.1.2.1.1.5.0 = STRING: \"monitored\"\\niso.3.6.1.2.1.1.6.0 = STRING: \"Sitting on the Dock of the Bay\"\\niso.3.6.1.2.1.1.7.0 = INTEGER: 72\\niso.3.6.1.2.1.1.8.0 = Timeticks: (1550) 0:00:15.50\\nâ€¦\\niso.3.6.1.2.1.1.9.1.3.1 = STRING: \"The SNMP Management Architecture MIB.\"\\niso.3.6.1.2.1.1.9.1.3.2 = STRING: \"The MIB for Message Processing and Dispatching.\"\\niso.3.6.1.2.1.1.9.1.3.3 = STRING: \"The management information definitions for the SNMP User-based Security Model.\"\\niso.3.6.1.2.1.1.9.1.3.4 = STRING: \"The MIB module for SNMPv2 entities\"\\niso.3.6.1.2.1.1.9.1.3.5 = STRING: \"View-based Access Control Model for SNMP.\"\\niso.3.6.1.2.1.1.9.1.3.6 = STRING: \"The MIB module for managing TCP implementations\"\\niso.3.6.1.2.1.1.9.1.3.7 = STRING: \"The MIB module for managing UDP implementations\"\\niso.3.6.1.2.1.1.9.1.3.8 = STRING: \"The MIB module for managing IP and ICMP implementations\"\\niso.3.6.1.2.1.1.9.1.3.9 = STRING: \"The MIB modules for managing SNMP Notification, plus filtering.\"\\niso.3.6.1.2.1.1.9.1.3.10 = STRING: \"The MIB module for logging SNMP Notifications.\"\\niso.3'),\n",
       " Document(metadata={'source': 'test2.txt'}, page_content='.3.10 = STRING: \"The MIB module for logging SNMP Notifications.\"\\niso.3.6.1.2.1.1.9.1.3.11 = STRING: \"The MIB module for logging SNMP Notifications.\"\\niso.3.6.1.2.1.25.1.4.0 = STRING: \"BOOT_IMAGE=/boot/vmlinuz-5.10.0-27-amd64 root=UUID=d8761c35-f10f-4e79-b24c-38a65ad7ce1b ro net.ifnames=0 biosdevname=0 quiet\"\\nâ€¦\\niso.3.6.1.2.1.25.4.2.1.5.492 = STRING: \"--config /etc/laurel/config.toml\"\\niso.3.6.1.2.1.25.4.2.1.5.522 = \"\"\\niso.3.6.1.2.1.25.4.2.1.5.569 = STRING: \"-d -q -s\"\\niso.3.6.1.2.1.25.4.2.1.5.571 = STRING: \"-f\"\\niso.3.6.1.2.1.25.4.2.1.5.572 = STRING: \"--system --address=systemd: --nofork --nopidfile --systemd-activation --syslog-only\"\\niso.3.6.1.2.1.25.4.2.1.5.575 = STRING: \"-n -iNONE\"\\niso.3.6.1.2.1.25.4.2.1.5.577 = \"\"\\niso.3.6.1.2.1.25.4.2.1.5.578 = STRING: \"-u -s -O /run/wpa_supplicant\"\\niso.3.6.1.2.1.25.4.2.1.5.588 = STRING: \"-f\"\\niso.3.6.1.2.1.25.4.2.1.5.609 = STRING'),\n",
       " Document(metadata={'source': 'test2.txt'}, page_content='3.6.1.2.1.25.4.2.1.5.609 = STRING: \"-c sleep 30; sudo -u svc /bin/bash -c /opt/scripts/check_host.sh svc XjH7VCehowpR1xZB \"\\niso.3.6.1.2.1.25.4.2.1.5.621 = STRING: \"-4 -v -i -pf /run/dhclient.eth0.pid -lf /var/lib/dhcp/dhclient.eth0.leases -I -df /var/lib/dhcp/dhclient6.eth0.leases eth0\"\\niso.3.6.1.2.1.25.4.2.1.5.686 = \"\"\\niso.3.6.1.2.1.25.4.2.1.5.687 = \"\"\\niso.3.6.1.2.1.25.4.2.1.5.731 = STRING: \"-f /usr/local/nagios/etc/pnp/npcd.cfg\"\\niso.3.6.1.2.1.25.4.2.1.5.737 = STRING: \"-LOw -f -p /run/snmptrapd.pid\"\\niso.3.6.1.2.1.25.4.2.1.5.750 = STRING: \"-LOw -u Debian-snmp -g Debian-snmp -I -smux mteTrigger mteTriggerConf -f -p /run/snmpd.pid\"\\niso.3.6.1.2.1.25.4.2.1.5.759 = STRING: \"-o -p -- \\\\\\\\u --noclear tty1 linux\"\\niso.3.6.1.2.1.25.4.2.1.5.770 = STRING: \"-p /var/run/ntpd.pid -g -u 108:116\"\\niso.3.6.1.2.1.25.4.2.1.5.780 = \"\"\\niso.3.6.1.2.1.25.4.2.1.5.'),\n",
       " Document(metadata={'source': 'test2.txt'}, page_content=' \"\"\\niso.3.6.1.2.1.25.4.2.1.5.816 = STRING: \"-q --background=/var/run/shellinaboxd.pid -c /var/lib/shellinabox -p 7878 -u shellinabox -g shellinabox --user-css Black on Whit\"\\niso.3.6.1.2.1.25.4.2.1.5.818 = STRING: \"-h ldap:/// ldapi:/// -g openldap -u openldap -F /etc/ldap/slapd.d\"\\niso.3.6.1.2.1.25.4.2.1.5.819 = STRING: \"-q --background=/var/run/shellinaboxd.pid -c /var/lib/shellinabox -p 7878 -u shellinabox -g shellinabox --user-css Black on Whit\"\\niso.3.6.1.2.1.25.4.2.1.5.826 = STRING: \"-k start\"\\niso.3.6.1.2.1.25.4.2.1.5.834 = STRING: \"-D /var/lib/postgresql/13/main -c config_file=/etc/postgresql/13/main/postgresql.conf\"\\niso.3.6.1.2.1.25.4.2.1.5.1535 = STRING: \"-u svc /bin/bash -c /opt/scripts/check_host.sh svc XjH7VCehowpR1xZB\"\\niso.3.6.1.2.1.25.4.2.1.5.1536 = STRING: \"-c /opt/scripts/check_host.sh svc XjH7VCehowpR1xZB\"\\niso.3.6.1.2.1.25.4.2.1.5.1562 = STRING: \"-bd -q30m\"\\niso.3.6.1.2.1.25.4.2.1.5.1976 = STRING: \"-k'),\n",
       " Document(metadata={'source': 'test2.txt'}, page_content='.1.2.1.25.4.2.1.5.1976 = STRING: \"-k start\"\\niso.3.6.1.2.1.25.4.2.1.5.2081 = STRING: \"-k start\"\\niso.3.6.1.2.1.25.4.2.1.5.2115 = STRING: \"-d /usr/local/nagios/etc/nagios.cfg\"\\niso.3.6.1.2.1.25.4.2.1.5.2118 = STRING: \"--worker /usr/local/nagios/var/rw/nagios.qh\"\\niso.3.6.1.2.1.25.4.2.1.5.2119 = STRING: \"--worker /usr/local/nagios/var/rw/nagios.qh\"\\niso.3.6.1.2.1.25.4.2.1.5.2120 = STRING: \"--worker /usr/local/nagios/var/rw/nagios.qh\"\\niso.3.6.1.2.1.25.4.2.1.5.2121 = STRING: \"--worker /usr/local/nagios/var/rw/nagios.qh\"\\niso.3.6.1.2.1.25.4.2.1.5.2255 = STRING: \"-d /usr/local/nagios/etc/nagios.cfg\"> nmap $target -p- -T4 -Pn --open --reason\\nNmap scan report for 10.10.11.248\\nHost is up, received user-set (0.057s latency).\\nNot shown: 63049 closed tcp ports (conn-refused), 2481 filtered tcp ports (no-response)\\nSome closed ports may be reported as filtered due to --defeat-rst-ratelimit\\nPORT     STATE SERVICE REASON\\n22/tcp   open  ssh     syn-ack\\n80/tcp   open  http    syn-ack\\n389/tcp  open  ldap    syn'),\n",
       " Document(metadata={'source': 'test2.txt'}, page_content=\" open  http    syn-ack\\n389/tcp  open  ldap    syn-ack\\n443/tcp  open  https   syn-ack\\n5667/tcp open  unknown syn-ack\\n \\nNmap done: 1 IP address (1 host up) scanned in 33.02 seconds\\n\\n> ffuf -c -w /usr/share/seclists/Discovery/Web-Content/directory-list-2.3-small.txt -t 100 -fc 404 -e .php,.html,.txt -u https://nagios.monitored.htb/nagiosxi/FUZZ\\n \\n        /'___\\\\  /'___\\\\           /'___\\\\      \\n       /\\\\ \\\\__/ /\\\\ \\\\__/  __  __  /\\\\ \\\\__/      \\n       \\\\ \\\\ ,__\\\\\\\\ \\\\ ,__\\\\/\\\\ \\\\/\\\\ \\\\ \\\\ \\\\ ,__\\\\     \\n        \\\\ \\\\ \\\\_/ \\\\ \\\\ \\\\_/\\\\ \\\\ \\\\_\\\\ \\\\ \\\\ \\\\ \\\\_/      \\n         \\\\ \\\\_\\\\   \\\\ \\\\_\\\\  \\\\ \\\\____/  \\\\ \\\\_\\\\      \\n          \\\\/_/    \\\\/_/   \\\\/___/    \\\\/_/      \\n \\n       v2.1.0-dev\\n________________________________________________\\n \\n :: Method           : GET\\n :: URL              : https://nagios.monitored.htb/nagiosxi/FUZZ\\n :: Wordlist         : FUZZ: /usr/share/seclists/Discovery/Web-Content/directory-list-2.3-small.txt\\n :: Extensions       : .php .html .txt\\n :: Follow redirects : false\\n :: Calibration      : false\\n :: Timeout  \"),\n",
       " Document(metadata={'source': 'test2.txt'}, page_content=' :: Follow redirects : false\\n :: Calibration      : false\\n :: Timeout          : 10\\n :: Threads          : 100\\n :: Matcher          : Response status: 200-299,301,302,307,401,403,405,500\\n :: Filter           : Response status: 404\\n________________________________________________\\n \\nimages                  [Status: 301, Size: 340, Words: 20, Lines: 10, Duration: 48ms]\\nindex.php               [Status: 302, Size: 27, Words: 5, Lines: 1, Duration: 81ms]\\nabout                   [Status: 301, Size: 339, Words: 20, Lines: 10, Duration: 46ms]\\nlogin.php               [Status: 200, Size: 26575, Words: 5452, Lines: 467, Duration: 96ms]\\nhelp                    [Status: 301, Size: 338, Words: 20, Lines: 10, Duration: 45ms]\\ntools                   [Status: 301, Size: 339, Words: 20, Lines: 10, Duration: 44ms]\\nmobile                  [Status: 301, Size: 340, Words: 20, Lines: 10, Duration: 43ms]\\nadmin                   [Status: 301, Size: 339, Words: 20, Lines: 10, Duration: 43ms]\\nreports                 [Status: 301, Size: 341, Words: 20, Lines: 10, Duration: 43ms]\\naccount                 [Status: 301, Size: 341, Words: 20, Lines:'),\n",
       " Document(metadata={'source': 'test2.txt'}, page_content='          [Status: 301, Size: 341, Words: 20, Lines: 10, Duration: 52ms]\\nincludes                [Status: 301, Size: 342, Words: 20, Lines: 10, Duration: 45ms]\\ninstall.php             [Status: 302, Size: 0, Words: 1, Lines: 1, Duration: 82ms]\\nbackend                 [Status: 301, Size: 341, Words: 20, Lines: 10, Duration: 45ms]\\ndb                      [Status: 301, Size: 336, Words: 20, Lines: 10, Duration: 51ms]\\napi                     [Status: 301, Size: 337, Words: 20, Lines: 10, Duration: 90ms]\\nupgrade.php             [Status: 302, Size: 0, Words: 1, Lines: 1, Duration: 99ms]\\nconfig                  [Status: 301, Size: 340, Words: 20, Lines: 10, Duration: 57ms]\\nsuggest.php             [Status: 200, Size: 27, Words: 5, Lines: 1, Duration: 100ms]\\nviews                   [Status: 301, Size: 339, Words: 20, Lines: 10, Duration: 51ms]\\nsounds                  [Status: 403, Size: 286, Words: 20, Lines: 10, Duration: 45ms]\\nrr.php                  [Status: 302, Size: 0, Words: 1, Lines: 1, Duration: 154ms]\\nterminal                [Status: 200, Size: 5215, Words'),\n",
       " Document(metadata={'source': 'test2.txt'}, page_content=\"              [Status: 200, Size: 5215, Words: 1247, Lines: 124, Duration: 159ms]\\n.php                    [Status: 403, Size: 286, Words: 20, Lines: 10, Duration: 45ms]\\n.html                   [Status: 403, Size: 286, Words: 20, Lines: 10, Duration: 47ms]\\n \\n:: Progress: [350600/350600] :: Job [1/1] :: 1196 req/sec :: Duration: [0:15:18] :: Errors: 1099::\\n\\n> nmap $target -p389 -script discovery\\nPre-scan script results:\\n|_hostmap-robtex: *TEMPORARILY DISABLED* due to changes in Robtex's API. See https://www.robtex.com/api/\\n|_http-robtex-shared-ns: *TEMPORARILY DISABLED* due to changes in Robtex's API. See https://www.robtex.com/api/\\n| targets-asn:\\n|_  targets-asn.asn is a mandatory parameter\\nNmap scan report for monitored.htb (10.10.11.248)\\nHost is up (0.043s latency).\\n \\nPORT    STATE SERVICE\\n389/tcp open  ldap\\n| ldap-search:\\n|   Context: dc=monitored,dc=htb\\n|     dn: dc=monitored,dc=htb\\n|         objectClass: top\\n|         objectClass: dcObject\\n|         objectClass: organization\\n|         o: monitored.htb\\n|_        dc: monitored\\n| ldap-rootdse:\\n| LDAP Results\\n|   <ROOT>\\n|       namingContexts: dc=monitored,dc=htb\\n|       supportedControl: 2.16.\"),\n",
       " Document(metadata={'source': 'test2.txt'}, page_content=' dc=monitored,dc=htb\\n|       supportedControl: 2.16.840.1.113730.3.4.18\\n|       supportedControl: 2.16.840.1.113730.3.4.2\\n|       supportedControl: 1.3.6.1.4.1.4203.1.10.1\\n|       supportedControl: 1.3.6.1.1.22\\n|       supportedControl: 1.2.840.113556.1.4.319\\n|       supportedControl: 1.2.826.0.1.3344810.2.3\\n|       supportedControl: 1.3.6.1.1.13.2\\n|       supportedControl: 1.3.6.1.1.13.1\\n|       supportedControl: 1.3.6.1.1.12\\n|       supportedExtension: 1.3.6.1.4.1.4203.1.11.1\\n|       supportedExtension: 1.3.6.1.4.1.4203.1.11.3\\n|       supportedExtension: 1.3.6.1.1.8\\n|       supportedLDAPVersion: 3\\n|       supportedSASLMechanisms: DIGEST-MD5\\n|       supportedSASLMechanisms: NTLM\\n|       supportedSASLMechanisms: CRAM-MD5\\n|_      subschemaSubentry: cn=Subschema\\n \\nHost script results:\\n|_fcrdns: FAIL (No PTR record)\\n| dns-brute:\\n|_  DNS Brute-force hostnames: No results.\\n \\nNmap done: 1 IP address (1 host up) scanned in 16.82 seconds\\n\\n> snmpwalk -c public -v1 -t 10 $target\\niso.'),\n",
       " Document(metadata={'source': 'test2.txt'}, page_content=' 16.82 seconds\\n\\n> snmpwalk -c public -v1 -t 10 $target\\niso.3.6.1.2.1.1.1.0 = STRING: \"Linux monitored 5.10.0-27-amd64 #1 SMP Debian 5.10.205-2 (2023-12-31) x86_64\"\\niso.3.6.1.2.1.1.2.0 = OID: iso.3.6.1.4.1.8072.3.2.10\\niso.3.6.1.2.1.1.3.0 = Timeticks: (1036224) 2:52:42.24\\niso.3.6.1.2.1.1.4.0 = STRING: \"Me <root@monitored.htb>\"\\niso.3.6.1.2.1.1.5.0 = STRING: \"monitored\"\\niso.3.6.1.2.1.1.6.0 = STRING: \"Sitting on the Dock of the Bay\"\\niso.3.6.1.2.1.1.7.0 = INTEGER: 72\\niso.3.6.1.2.1.1.8.0 = Timeticks: (1550) 0:00:15.50\\nâ€¦\\niso.3.6.1.2.1.1.9.1.3.1 = STRING: \"The SNMP Management Architecture MIB.\"\\niso.3.6.1.2.1.1.9.1.3.2 = STRING: \"The MIB for Message Processing and Dispatching.\"\\niso.3.6.1.2.1.1.9.1.3.3 = STRING: \"The management information definitions for the SNMP User-based Security Model.\"\\niso.3.6.1.2.1.1.9.1.3.4 = STRING: \"The MIB module for SNMPv2 entities\"\\niso.3.6.1.2.1.1.9.1.3.5 = STRING: \"View-based Access Control Model for SNMP.\"\\niso.3.6.1.2.1'),\n",
       " Document(metadata={'source': 'test2.txt'}, page_content=': \"View-based Access Control Model for SNMP.\"\\niso.3.6.1.2.1.1.9.1.3.6 = STRING: \"The MIB module for managing TCP implementations\"\\niso.3.6.1.2.1.1.9.1.3.7 = STRING: \"The MIB module for managing UDP implementations\"\\niso.3.6.1.2.1.1.9.1.3.8 = STRING: \"The MIB module for managing IP and ICMP implementations\"\\niso.3.6.1.2.1.1.9.1.3.9 = STRING: \"The MIB modules for managing SNMP Notification, plus filtering.\"\\niso.3.6.1.2.1.1.9.1.3.10 = STRING: \"The MIB module for logging SNMP Notifications.\"\\niso.3.6.1.2.1.1.9.1.3.11 = STRING: \"The MIB module for logging SNMP Notifications.\"\\niso.3.6.1.2.1.25.1.4.0 = STRING: \"BOOT_IMAGE=/boot/vmlinuz-5.10.0-27-amd64 root=UUID=d8761c35-f10f-4e79-b24c-38a65ad7ce1b ro net.ifnames=0 biosdevname=0 quiet\"\\nâ€¦\\niso.3.6.1.2.1.25.4.2.1.5.492 = STRING: \"--config /etc/laurel/config.toml\"\\niso.3.6.1.2.1.25.4.2.1.5.522 = \"\"\\niso.3.6.1.2.1.25.4.2.1.5.569 = STRING: \"-d -q -s\"\\niso.3.6.1.2.1.25.4.2.1.5.571 = STRING: \"-f\"\\niso.3.6.1.2.1.25.4.2.1.5.572 = STRING: \"--system --address=systemd: --n'),\n",
       " Document(metadata={'source': 'test2.txt'}, page_content='4.2.1.5.572 = STRING: \"--system --address=systemd: --nofork --nopidfile --systemd-activation --syslog-only\"\\niso.3.6.1.2.1.25.4.2.1.5.575 = STRING: \"-n -iNONE\"\\niso.3.6.1.2.1.25.4.2.1.5.577 = \"\"\\niso.3.6.1.2.1.25.4.2.1.5.578 = STRING: \"-u -s -O /run/wpa_supplicant\"\\niso.3.6.1.2.1.25.4.2.1.5.588 = STRING: \"-f\"\\niso.3.6.1.2.1.25.4.2.1.5.609 = STRING: \"-c sleep 30; sudo -u svc /bin/bash -c /opt/scripts/check_host.sh svc XjH7VCehowpR1xZB \"\\niso.3.6.1.2.1.25.4.2.1.5.621 = STRING: \"-4 -v -i -pf /run/dhclient.eth0.pid -lf /var/lib/dhcp/dhclient.eth0.leases -I -df /var/lib/dhcp/dhclient6.eth0.leases eth0\"\\niso.3.6.1.2.1.25.4.2.1.5.686 = \"\"\\niso.3.6.1.2.1.25.4.2.1.5.687 = \"\"\\niso.3.6.1.2.1.25.4.2.1.5.731 = STRING: \"-f /usr/local/nagios/etc/pnp/npcd.cfg\"\\niso.3.6.1.2.1.25.4.2.1.5.737 = STRING: \"-LOw -f -p /run/snmptrapd.pid\"\\niso.3.6.1.2.1.25.4.2.1.5.750 = STRING'),\n",
       " Document(metadata={'source': 'test2.txt'}, page_content='3.6.1.2.1.25.4.2.1.5.750 = STRING: \"-LOw -u Debian-snmp -g Debian-snmp -I -smux mteTrigger mteTriggerConf -f -p /run/snmpd.pid\"\\niso.3.6.1.2.1.25.4.2.1.5.759 = STRING: \"-o -p -- \\\\\\\\u --noclear tty1 linux\"\\niso.3.6.1.2.1.25.4.2.1.5.770 = STRING: \"-p /var/run/ntpd.pid -g -u 108:116\"\\niso.3.6.1.2.1.25.4.2.1.5.780 = \"\"\\niso.3.6.1.2.1.25.4.2.1.5.816 = STRING: \"-q --background=/var/run/shellinaboxd.pid -c /var/lib/shellinabox -p 7878 -u shellinabox -g shellinabox --user-css Black on Whit\"\\niso.3.6.1.2.1.25.4.2.1.5.818 = STRING: \"-h ldap:/// ldapi:/// -g openldap -u openldap -F /etc/ldap/slapd.d\"\\niso.3.6.1.2.1.25.4.2.1.5.819 = STRING: \"-q --background=/var/run/shellinaboxd.pid -c /var/lib/shellinabox -p 7878 -u shellinabox -g shellinabox --user-css Black on Whit\"\\niso.3.6.1.2.1.25.4.2.1.5.826 = STRING: \"-k start\"\\niso.3.6.1.2.1.25.4.2.1.5.834 = STRING: \"-D /var/lib/postgresql/13/main -c config_file=/etc/postgresql/13/main/postgresql.conf\"\\niso.3.6.'),\n",
       " Document(metadata={'source': 'test2.txt'}, page_content='=/etc/postgresql/13/main/postgresql.conf\"\\niso.3.6.1.2.1.25.4.2.1.5.1535 = STRING: \"-u svc /bin/bash -c /opt/scripts/check_host.sh svc XjH7VCehowpR1xZB\"\\niso.3.6.1.2.1.25.4.2.1.5.1536 = STRING: \"-c /opt/scripts/check_host.sh svc XjH7VCehowpR1xZB\"\\niso.3.6.1.2.1.25.4.2.1.5.1562 = STRING: \"-bd -q30m\"\\niso.3.6.1.2.1.25.4.2.1.5.1976 = STRING: \"-k start\"\\niso.3.6.1.2.1.25.4.2.1.5.2081 = STRING: \"-k start\"\\niso.3.6.1.2.1.25.4.2.1.5.2115 = STRING: \"-d /usr/local/nagios/etc/nagios.cfg\"\\niso.3.6.1.2.1.25.4.2.1.5.2118 = STRING: \"--worker /usr/local/nagios/var/rw/nagios.qh\"\\niso.3.6.1.2.1.25.4.2.1.5.2119 = STRING: \"--worker /usr/local/nagios/var/rw/nagios.qh\"\\niso.3.6.1.2.1.25.4.2.1.5.2120 = STRING: \"--worker /usr/local/nagios/var/rw/nagios.qh\"\\niso.3.6.1.2.1.25.4.2.1.5.2121 = STRING: \"--worker /usr/local/nagios/var/rw/nagios.qh\"\\niso.3.6.1.2.1.25.4'),\n",
       " Document(metadata={'source': 'test2.txt'}, page_content='/nagios.qh\"\\niso.3.6.1.2.1.25.4.2.1.5.2255 = STRING: \"-d /usr/local/nagios/etc/nagios.cfg\"> nmap $target -p- -T4 -Pn --open --reason\\nNmap scan report for 10.10.11.248\\nHost is up, received user-set (0.057s latency).\\nNot shown: 63049 closed tcp ports (conn-refused), 2481 filtered tcp ports (no-response)\\nSome closed ports may be reported as filtered due to --defeat-rst-ratelimit\\nPORT     STATE SERVICE REASON\\n22/tcp   open  ssh     syn-ack\\n80/tcp   open  http    syn-ack\\n389/tcp  open  ldap    syn-ack\\n443/tcp  open  https   syn-ack\\n5667/tcp open  unknown syn-ack\\n \\nNmap done: 1 IP address (1 host up) scanned in 33.02 seconds\\n\\n> ffuf -c -w /usr/share/seclists/Discovery/Web-Content/directory-list-2.3-small.txt -t 100 -fc 404 -e .php,.html,.txt -u https://nagios.monitored.htb/nagiosxi/FUZZ\\n \\n        /\\'___\\\\  /\\'___\\\\           /\\'___\\\\      \\n       /\\\\ \\\\__/ /\\\\ \\\\__/  __  __  /\\\\ \\\\__/      \\n       \\\\ \\\\ ,__\\\\\\\\ \\\\ ,__\\\\/\\\\ \\\\/\\\\ \\\\ \\\\ \\\\ ,__\\\\     \\n        \\\\ \\\\ \\\\_/ \\\\ \\\\ \\\\_/\\\\ \\\\ \\\\_\\\\ \\\\ \\\\ \\\\ \\\\_/      \\n         \\\\ \\\\_\\\\   \\\\ \\\\_\\\\  \\\\ \\\\____/  \\\\ \\\\_\\\\      \\n          \\\\/_/ '),\n",
       " Document(metadata={'source': 'test2.txt'}, page_content=' \\\\ \\\\_\\\\      \\n          \\\\/_/    \\\\/_/   \\\\/___/    \\\\/_/      \\n \\n       v2.1.0-dev\\n________________________________________________\\n \\n :: Method           : GET\\n :: URL              : https://nagios.monitored.htb/nagiosxi/FUZZ\\n :: Wordlist         : FUZZ: /usr/share/seclists/Discovery/Web-Content/directory-list-2.3-small.txt\\n :: Extensions       : .php .html .txt\\n :: Follow redirects : false\\n :: Calibration      : false\\n :: Timeout          : 10\\n :: Threads          : 100\\n :: Matcher          : Response status: 200-299,301,302,307,401,403,405,500\\n :: Filter           : Response status: 404\\n________________________________________________\\n \\nimages                  [Status: 301, Size: 340, Words: 20, Lines: 10, Duration: 48ms]\\nindex.php               [Status: 302, Size: 27, Words: 5, Lines: 1, Duration: 81ms]\\nabout                   [Status: 301, Size: 339, Words: 20, Lines: 10, Duration: 46ms]\\nlogin.php               [Status: 200, Size: 26575, Words: 5452, Lines: 467, Duration: 96ms]\\nhelp                    [Status: 301, Size: 338, Words: 20, Lines: 10, Duration: 45ms]\\ntools               '),\n",
       " Document(metadata={'source': 'test2.txt'}, page_content=' 10, Duration: 45ms]\\ntools                   [Status: 301, Size: 339, Words: 20, Lines: 10, Duration: 44ms]\\nmobile                  [Status: 301, Size: 340, Words: 20, Lines: 10, Duration: 43ms]\\nadmin                   [Status: 301, Size: 339, Words: 20, Lines: 10, Duration: 43ms]\\nreports                 [Status: 301, Size: 341, Words: 20, Lines: 10, Duration: 43ms]\\naccount                 [Status: 301, Size: 341, Words: 20, Lines: 10, Duration: 52ms]\\nincludes                [Status: 301, Size: 342, Words: 20, Lines: 10, Duration: 45ms]\\ninstall.php             [Status: 302, Size: 0, Words: 1, Lines: 1, Duration: 82ms]\\nbackend                 [Status: 301, Size: 341, Words: 20, Lines: 10, Duration: 45ms]\\ndb                      [Status: 301, Size: 336, Words: 20, Lines: 10, Duration: 51ms]\\napi                     [Status: 301, Size: 337, Words: 20, Lines: 10, Duration: 90ms]\\nupgrade.php             [Status: 302, Size: 0, Words: 1, Lines: 1, Duration: 99ms]\\nconfig                  [Status: 301, Size: 340, Words: 20, Lines: 10, Duration: 57ms]\\nsuggest.php         '),\n",
       " Document(metadata={'source': 'test2.txt'}, page_content=\" 20, Lines: 10, Duration: 57ms]\\nsuggest.php             [Status: 200, Size: 27, Words: 5, Lines: 1, Duration: 100ms]\\nviews                   [Status: 301, Size: 339, Words: 20, Lines: 10, Duration: 51ms]\\nsounds                  [Status: 403, Size: 286, Words: 20, Lines: 10, Duration: 45ms]\\nrr.php                  [Status: 302, Size: 0, Words: 1, Lines: 1, Duration: 154ms]\\nterminal                [Status: 200, Size: 5215, Words: 1247, Lines: 124, Duration: 159ms]\\n.php                    [Status: 403, Size: 286, Words: 20, Lines: 10, Duration: 45ms]\\n.html                   [Status: 403, Size: 286, Words: 20, Lines: 10, Duration: 47ms]\\n \\n:: Progress: [350600/350600] :: Job [1/1] :: 1196 req/sec :: Duration: [0:15:18] :: Errors: 1099::\\n\\n> nmap $target -p389 -script discovery\\nPre-scan script results:\\n|_hostmap-robtex: *TEMPORARILY DISABLED* due to changes in Robtex's API. See https://www.robtex.com/api/\\n|_http-robtex-shared-ns: *TEMPORARILY DISABLED* due to changes in Robtex's API. See https://www.robtex.com/api/\\n| targets-asn:\\n|_  targets-asn.asn is a mandatory parameter\\nNmap scan report for monitored.htb (10.10.11.248)\\nHost is up (0.043s latency).\\n \\nPORT    STATE SERVICE\\n\"),\n",
       " Document(metadata={'source': 'test2.txt'}, page_content='.248)\\nHost is up (0.043s latency).\\n \\nPORT    STATE SERVICE\\n389/tcp open  ldap\\n| ldap-search:\\n|   Context: dc=monitored,dc=htb\\n|     dn: dc=monitored,dc=htb\\n|         objectClass: top\\n|         objectClass: dcObject\\n|         objectClass: organization\\n|         o: monitored.htb\\n|_        dc: monitored\\n| ldap-rootdse:\\n| LDAP Results\\n|   <ROOT>\\n|       namingContexts: dc=monitored,dc=htb\\n|       supportedControl: 2.16.840.1.113730.3.4.18\\n|       supportedControl: 2.16.840.1.113730.3.4.2\\n|       supportedControl: 1.3.6.1.4.1.4203.1.10.1\\n|       supportedControl: 1.3.6.1.1.22\\n|       supportedControl: 1.2.840.113556.1.4.319\\n|       supportedControl: 1.2.826.0.1.3344810.2.3\\n|       supportedControl: 1.3.6.1.1.13.2\\n|       supportedControl: 1.3.6.1.1.13.1\\n|       supportedControl: 1.3.6.1.1.12\\n|       supportedExtension: 1.3.6.1.4.1.4203.1.11.1\\n|       supportedExtension: 1.3.6.1.4.1.4203.1.11.3\\n|       supportedExtension: 1.3.6.1.1.8\\n'),\n",
       " Document(metadata={'source': 'test2.txt'}, page_content='\\n|       supportedExtension: 1.3.6.1.1.8\\n|       supportedLDAPVersion: 3\\n|       supportedSASLMechanisms: DIGEST-MD5\\n|       supportedSASLMechanisms: NTLM\\n|       supportedSASLMechanisms: CRAM-MD5\\n|_      subschemaSubentry: cn=Subschema\\n \\nHost script results:\\n|_fcrdns: FAIL (No PTR record)\\n| dns-brute:\\n|_  DNS Brute-force hostnames: No results.\\n \\nNmap done: 1 IP address (1 host up) scanned in 16.82 seconds\\n\\n> snmpwalk -c public -v1 -t 10 $target\\niso.3.6.1.2.1.1.1.0 = STRING: \"Linux monitored 5.10.0-27-amd64 #1 SMP Debian 5.10.205-2 (2023-12-31) x86_64\"\\niso.3.6.1.2.1.1.2.0 = OID: iso.3.6.1.4.1.8072.3.2.10\\niso.3.6.1.2.1.1.3.0 = Timeticks: (1036224) 2:52:42.24\\niso.3.6.1.2.1.1.4.0 = STRING: \"Me <root@monitored.htb>\"\\niso.3.6.1.2.1.1.5.0 = STRING: \"monitored\"\\niso.3.6.1.2.1.1.6.0 = STRING: \"Sitting on the Dock of the Bay\"\\niso.3.6.1.2.1.1.7.0 = INTEGER: 72\\niso.3.6.1.2.1.1.8.0 = Timeticks: (1550) 0:00:15.50\\nâ€¦\\niso.3.6.1.2.1.1.9.1.'),\n",
       " Document(metadata={'source': 'test2.txt'}, page_content='\\nâ€¦\\niso.3.6.1.2.1.1.9.1.3.1 = STRING: \"The SNMP Management Architecture MIB.\"\\niso.3.6.1.2.1.1.9.1.3.2 = STRING: \"The MIB for Message Processing and Dispatching.\"\\niso.3.6.1.2.1.1.9.1.3.3 = STRING: \"The management information definitions for the SNMP User-based Security Model.\"\\niso.3.6.1.2.1.1.9.1.3.4 = STRING: \"The MIB module for SNMPv2 entities\"\\niso.3.6.1.2.1.1.9.1.3.5 = STRING: \"View-based Access Control Model for SNMP.\"\\niso.3.6.1.2.1.1.9.1.3.6 = STRING: \"The MIB module for managing TCP implementations\"\\niso.3.6.1.2.1.1.9.1.3.7 = STRING: \"The MIB module for managing UDP implementations\"\\niso.3.6.1.2.1.1.9.1.3.8 = STRING: \"The MIB module for managing IP and ICMP implementations\"\\niso.3.6.1.2.1.1.9.1.3.9 = STRING: \"The MIB modules for managing SNMP Notification, plus filtering.\"\\niso.3.6.1.2.1.1.9.1.3.10 = STRING: \"The MIB module for logging SNMP Notifications.\"\\niso.3.6.1.2.1.1.9.1.3.11 = STRING: \"The MIB module for logging SNMP Notifications.\"\\niso.3.6.1.2.1.25.1.4.0 = STRING: \"BOOT_IMAGE=/boot/vmlinuz-5.10.0-27-amd64 root=UUID=d8761c35-f10f-4e79-b24c-38a65ad7ce1b ro net.ifnames=0 biosdevname=0 quiet'),\n",
       " Document(metadata={'source': 'test2.txt'}, page_content='24c-38a65ad7ce1b ro net.ifnames=0 biosdevname=0 quiet\"\\nâ€¦\\niso.3.6.1.2.1.25.4.2.1.5.492 = STRING: \"--config /etc/laurel/config.toml\"\\niso.3.6.1.2.1.25.4.2.1.5.522 = \"\"\\niso.3.6.1.2.1.25.4.2.1.5.569 = STRING: \"-d -q -s\"\\niso.3.6.1.2.1.25.4.2.1.5.571 = STRING: \"-f\"\\niso.3.6.1.2.1.25.4.2.1.5.572 = STRING: \"--system --address=systemd: --nofork --nopidfile --systemd-activation --syslog-only\"\\niso.3.6.1.2.1.25.4.2.1.5.575 = STRING: \"-n -iNONE\"\\niso.3.6.1.2.1.25.4.2.1.5.577 = \"\"\\niso.3.6.1.2.1.25.4.2.1.5.578 = STRING: \"-u -s -O /run/wpa_supplicant\"\\niso.3.6.1.2.1.25.4.2.1.5.588 = STRING: \"-f\"\\niso.3.6.1.2.1.25.4.2.1.5.609 = STRING: \"-c sleep 30; sudo -u svc /bin/bash -c /opt/scripts/check_host.sh svc XjH7VCehowpR1xZB \"\\niso.3.6.1.2.1.25.4.2.1.5.621 = STRING: \"-4 -v -i -pf /run/dhclient.eth0.pid -lf /var/lib/dhcp/dhclient.eth0.leases -I -df /var/lib/dhcp/dhclient6.eth0'),\n",
       " Document(metadata={'source': 'test2.txt'}, page_content='client.eth0.leases -I -df /var/lib/dhcp/dhclient6.eth0.leases eth0\"\\niso.3.6.1.2.1.25.4.2.1.5.686 = \"\"\\niso.3.6.1.2.1.25.4.2.1.5.687 = \"\"\\niso.3.6.1.2.1.25.4.2.1.5.731 = STRING: \"-f /usr/local/nagios/etc/pnp/npcd.cfg\"\\niso.3.6.1.2.1.25.4.2.1.5.737 = STRING: \"-LOw -f -p /run/snmptrapd.pid\"\\niso.3.6.1.2.1.25.4.2.1.5.750 = STRING: \"-LOw -u Debian-snmp -g Debian-snmp -I -smux mteTrigger mteTriggerConf -f -p /run/snmpd.pid\"\\niso.3.6.1.2.1.25.4.2.1.5.759 = STRING: \"-o -p -- \\\\\\\\u --noclear tty1 linux\"\\niso.3.6.1.2.1.25.4.2.1.5.770 = STRING: \"-p /var/run/ntpd.pid -g -u 108:116\"\\niso.3.6.1.2.1.25.4.2.1.5.780 = \"\"\\niso.3.6.1.2.1.25.4.2.1.5.816 = STRING: \"-q --background=/var/run/shellinaboxd.pid -c /var/lib/shellinabox -p 7878 -u shellinabox -g shellinabox --user-css Black on Whit\"\\niso.3.6.1.2.1.25.4.2.1.5.818 = STRING: \"-h ldap:/// ldapi:/// -g openldap -u openldap -F /etc/ldap/slapd.d\"\\niso.3'),\n",
       " Document(metadata={'source': 'test2.txt'}, page_content='ap -u openldap -F /etc/ldap/slapd.d\"\\niso.3.6.1.2.1.25.4.2.1.5.819 = STRING: \"-q --background=/var/run/shellinaboxd.pid -c /var/lib/shellinabox -p 7878 -u shellinabox -g shellinabox --user-css Black on Whit\"\\niso.3.6.1.2.1.25.4.2.1.5.826 = STRING: \"-k start\"\\niso.3.6.1.2.1.25.4.2.1.5.834 = STRING: \"-D /var/lib/postgresql/13/main -c config_file=/etc/postgresql/13/main/postgresql.conf\"\\niso.3.6.1.2.1.25.4.2.1.5.1535 = STRING: \"-u svc /bin/bash -c /opt/scripts/check_host.sh svc XjH7VCehowpR1xZB\"\\niso.3.6.1.2.1.25.4.2.1.5.1536 = STRING: \"-c /opt/scripts/check_host.sh svc XjH7VCehowpR1xZB\"\\niso.3.6.1.2.1.25.4.2.1.5.1562 = STRING: \"-bd -q30m\"\\niso.3.6.1.2.1.25.4.2.1.5.1976 = STRING: \"-k start\"\\niso.3.6.1.2.1.25.4.2.1.5.2081 = STRING: \"-k start\"\\niso.3.6.1.2.1.25.4.2.1.5.2115 = STRING: \"-d /usr/local/nagios/etc/nagios.cfg\"\\niso.3.6.1.2.1.25.4.2.1.5.2118 = STRING: \"--worker /usr/local/nagios/var/'),\n",
       " Document(metadata={'source': 'test2.txt'}, page_content='1.5.2118 = STRING: \"--worker /usr/local/nagios/var/rw/nagios.qh\"\\niso.3.6.1.2.1.25.4.2.1.5.2119 = STRING: \"--worker /usr/local/nagios/var/rw/nagios.qh\"\\niso.3.6.1.2.1.25.4.2.1.5.2120 = STRING: \"--worker /usr/local/nagios/var/rw/nagios.qh\"\\niso.3.6.1.2.1.25.4.2.1.5.2121 = STRING: \"--worker /usr/local/nagios/var/rw/nagios.qh\"\\niso.3.6.1.2.1.25.4.2.1.5.2255 = STRING: \"-d /usr/local/nagios/etc/nagios.cfg\"')]"
      ]
     },
     "execution_count": 29,
     "metadata": {},
     "output_type": "execute_result"
    }
   ],
   "source": [
    "documents[0]"
   ]
  },
  {
   "cell_type": "code",
   "execution_count": 31,
   "metadata": {
    "id": "pXf7OTGHtHNW"
   },
   "outputs": [],
   "source": [
    "# Initialize Groq LLM\n",
    "llm = ChatGroq(\n",
    "    temperature=0,\n",
    "    model_name=\"llama-3.1-70b-versatile\",  \n",
    ")\n",
    "llm_transformer = LLMGraphTransformer(llm=llm)\n",
    "\n",
    "graph_documents = llm_transformer.convert_to_graph_documents(documents)\n",
    "graph.add_graph_documents(\n",
    "    graph_documents,\n",
    "    baseEntityLabel=True,\n",
    "    include_source=True\n",
    ")"
   ]
  },
  {
   "cell_type": "code",
   "execution_count": 32,
   "metadata": {
    "colab": {
     "base_uri": "https://localhost:8080/",
     "height": 817,
     "referenced_widgets": [
      "8e37edd9789a4d57a7be401628e7ff7f",
      "9bac7003afd84cecb4e67a81a396ec8d"
     ]
    },
    "id": "RMZlhtDmtHNW",
    "outputId": "86efa842-3297-45d6-dab2-681bbc836b4d"
   },
   "outputs": [
    {
     "data": {
      "application/vnd.jupyter.widget-view+json": {
       "model_id": "893025973e7c472da4c72ff6691e28a0",
       "version_major": 2,
       "version_minor": 0
      },
      "text/plain": [
       "GraphWidget(layout=Layout(height='790px', width='100%'))"
      ]
     },
     "metadata": {},
     "output_type": "display_data"
    }
   ],
   "source": [
    "# directly show the graph resulting from the given Cypher query\n",
    "default_cypher = \"MATCH (s)-[r:!MENTIONS]->(t) RETURN s,r,t\"\n",
    "\n",
    "def showGraph(cypher: str = \"MATCH (s)-[r:!MENTIONS]->(t) RETURN s,r,t LIMIT 50\"):\n",
    "    driver = GraphDatabase.driver(\n",
    "        uri = os.environ[\"NEO4J_URI\"],\n",
    "        auth = (os.environ[\"NEO4J_USERNAME\"],\n",
    "                os.environ[\"NEO4J_PASSWORD\"]))\n",
    "    session = driver.session()\n",
    "    widget = GraphWidget(graph = session.run(cypher).graph())\n",
    "    widget.node_label_mapping = 'id'\n",
    "    return widget\n",
    "\n",
    "showGraph()"
   ]
  },
  {
   "cell_type": "code",
   "execution_count": 33,
   "metadata": {
    "id": "1SixzK0olSfX"
   },
   "outputs": [
    {
     "name": "stderr",
     "output_type": "stream",
     "text": [
      "C:\\Users\\tejas\\AppData\\Local\\Temp\\ipykernel_6468\\3353852039.py:1: LangChainDeprecationWarning: The class `HuggingFaceEmbeddings` was deprecated in LangChain 0.2.2 and will be removed in 1.0. An updated version of the class exists in the :class:`~langchain-huggingface package and should be used instead. To use it run `pip install -U :class:`~langchain-huggingface` and import as `from :class:`~langchain_huggingface import HuggingFaceEmbeddings``.\n",
      "  embeddings = HuggingFaceEmbeddings(\n",
      "c:\\Users\\tejas\\OneDrive\\Desktop\\Graph\\env\\Lib\\site-packages\\sentence_transformers\\cross_encoder\\CrossEncoder.py:13: TqdmExperimentalWarning: Using `tqdm.autonotebook.tqdm` in notebook mode. Use `tqdm.tqdm` instead to force console mode (e.g. in jupyter console)\n",
      "  from tqdm.autonotebook import tqdm, trange\n"
     ]
    }
   ],
   "source": [
    "embeddings = HuggingFaceEmbeddings(\n",
    "    model_name=\"sentence-transformers/all-mpnet-base-v2\"\n",
    ")"
   ]
  },
  {
   "cell_type": "code",
   "execution_count": 34,
   "metadata": {
    "id": "GHbJPMfDtHNW"
   },
   "outputs": [],
   "source": [
    "vector_index = Neo4jVector.from_existing_graph(\n",
    "    embeddings,\n",
    "    search_type=\"hybrid\",\n",
    "    node_label=\"Document\",\n",
    "    text_node_properties=[\"text\"],\n",
    "    embedding_node_property=\"embedding\"\n",
    ")"
   ]
  },
  {
   "cell_type": "code",
   "execution_count": 36,
   "metadata": {
    "colab": {
     "base_uri": "https://localhost:8080/"
    },
    "id": "6yCMz_sRtHNW",
    "outputId": "f533f279-9a2b-48d6-830b-28d04c43550b"
   },
   "outputs": [],
   "source": [
    "# Retriever\n",
    "\n",
    "graph.query(\n",
    "    \"CREATE FULLTEXT INDEX entity IF NOT EXISTS FOR (e:__Entity__) ON EACH [e.id]\")\n",
    "\n",
    "# Extract entities from text\n",
    "class Entities(BaseModel):\n",
    "    \"\"\"Identifying information about entities.\"\"\"\n",
    "\n",
    "    names: List[str] = Field(\n",
    "        ...,\n",
    "        description=\"All the person, organization, or business entities that \"\n",
    "        \"appear in the text\",\n",
    "    )\n",
    "\n",
    "prompt = ChatPromptTemplate.from_messages(\n",
    "    [\n",
    "        (\n",
    "            \"system\",\n",
    "            \"You are extracting organization and person entities from the text.\",\n",
    "        ),\n",
    "        (\n",
    "            \"human\",\n",
    "            \"Use the given format to extract information from the following \"\n",
    "            \"input: {question}\",\n",
    "        ),\n",
    "    ]\n",
    ")\n",
    "\n",
    "entity_chain = prompt | llm.with_structured_output(Entities)"
   ]
  },
  {
   "cell_type": "code",
   "execution_count": 37,
   "metadata": {
    "id": "dY8huoM8tHNX"
   },
   "outputs": [],
   "source": [
    "def generate_full_text_query(input: str) -> str:\n",
    "    \"\"\"\n",
    "    Generate a full-text search query for a given input string.\n",
    "\n",
    "    This function constructs a query string suitable for a full-text search.\n",
    "    It processes the input string by splitting it into words and appending a\n",
    "    similarity threshold (~2 changed characters) to each word, then combines\n",
    "    them using the AND operator. Useful for mapping entities from user questions\n",
    "    to database values, and allows for some misspelings.\n",
    "    \"\"\"\n",
    "    full_text_query = \"\"\n",
    "    words = [el for el in remove_lucene_chars(input).split() if el]\n",
    "    for word in words[:-1]:\n",
    "        full_text_query += f\" {word}~2 AND\"\n",
    "    full_text_query += f\" {words[-1]}~2\"\n",
    "    return full_text_query.strip()\n",
    "\n",
    "# Fulltext index query\n",
    "def structured_retriever(question: str) -> str:\n",
    "    \"\"\"\n",
    "    Collects the neighborhood of entities mentioned\n",
    "    in the question\n",
    "    \"\"\"\n",
    "    result = \"\"\n",
    "    entities = entity_chain.invoke({\"question\": question})\n",
    "    for entity in entities.names:\n",
    "        response = graph.query(\n",
    "            \"\"\"CALL db.index.fulltext.queryNodes('entity', $query, {limit:2})\n",
    "            YIELD node,score\n",
    "            CALL {\n",
    "              WITH node\n",
    "              MATCH (node)-[r:!MENTIONS]->(neighbor)\n",
    "              RETURN node.id + ' - ' + type(r) + ' -> ' + neighbor.id AS output\n",
    "              UNION ALL\n",
    "              WITH node\n",
    "              MATCH (node)<-[r:!MENTIONS]-(neighbor)\n",
    "              RETURN neighbor.id + ' - ' + type(r) + ' -> ' +  node.id AS output\n",
    "            }\n",
    "            RETURN output LIMIT 50\n",
    "            \"\"\",\n",
    "            {\"query\": generate_full_text_query(entity)},\n",
    "        )\n",
    "        result += \"\\n\".join([el['output'] for el in response])\n",
    "    return result"
   ]
  },
  {
   "cell_type": "code",
   "execution_count": 38,
   "metadata": {
    "colab": {
     "base_uri": "https://localhost:8080/"
    },
    "id": "_6fOJRPntHNX",
    "outputId": "a99ffca0-2d4d-4374-8519-c6e37c395f1f"
   },
   "outputs": [
    {
     "name": "stderr",
     "output_type": "stream",
     "text": [
      "Received notification from DBMS server: {severity: WARNING} {code: Neo.ClientNotification.Statement.FeatureDeprecationWarning} {category: DEPRECATION} {title: This feature is deprecated and will be removed in future versions.} {description: CALL subquery without a variable scope clause is now deprecated. Use CALL (node, node) { ... }} {position: line: 3, column: 13, offset: 104} for query: \"CALL db.index.fulltext.queryNodes('entity', $query, {limit:2})\\n            YIELD node,score\\n            CALL {\\n              WITH node\\n              MATCH (node)-[r:!MENTIONS]->(neighbor)\\n              RETURN node.id + ' - ' + type(r) + ' -> ' + neighbor.id AS output\\n              UNION ALL\\n              WITH node\\n              MATCH (node)<-[r:!MENTIONS]-(neighbor)\\n              RETURN neighbor.id + ' - ' + type(r) + ' -> ' +  node.id AS output\\n            }\\n            RETURN output LIMIT 50\\n            \"\n",
      "Received notification from DBMS server: {severity: WARNING} {code: Neo.ClientNotification.Statement.FeatureDeprecationWarning} {category: DEPRECATION} {title: This feature is deprecated and will be removed in future versions.} {description: CALL subquery without a variable scope clause is now deprecated. Use CALL (node, node) { ... }} {position: line: 3, column: 13, offset: 104} for query: \"CALL db.index.fulltext.queryNodes('entity', $query, {limit:2})\\n            YIELD node,score\\n            CALL {\\n              WITH node\\n              MATCH (node)-[r:!MENTIONS]->(neighbor)\\n              RETURN node.id + ' - ' + type(r) + ' -> ' + neighbor.id AS output\\n              UNION ALL\\n              WITH node\\n              MATCH (node)<-[r:!MENTIONS]-(neighbor)\\n              RETURN neighbor.id + ' - ' + type(r) + ' -> ' +  node.id AS output\\n            }\\n            RETURN output LIMIT 50\\n            \"\n",
      "Received notification from DBMS server: {severity: WARNING} {code: Neo.ClientNotification.Statement.FeatureDeprecationWarning} {category: DEPRECATION} {title: This feature is deprecated and will be removed in future versions.} {description: CALL subquery without a variable scope clause is now deprecated. Use CALL (node, node) { ... }} {position: line: 3, column: 13, offset: 104} for query: \"CALL db.index.fulltext.queryNodes('entity', $query, {limit:2})\\n            YIELD node,score\\n            CALL {\\n              WITH node\\n              MATCH (node)-[r:!MENTIONS]->(neighbor)\\n              RETURN node.id + ' - ' + type(r) + ' -> ' + neighbor.id AS output\\n              UNION ALL\\n              WITH node\\n              MATCH (node)<-[r:!MENTIONS]-(neighbor)\\n              RETURN neighbor.id + ' - ' + type(r) + ' -> ' +  node.id AS output\\n            }\\n            RETURN output LIMIT 50\\n            \"\n"
     ]
    },
    {
     "name": "stdout",
     "output_type": "stream",
     "text": [
      "Snmp User-Based Security Model - MANAGES -> Snmpv2 Entities\n",
      "Snmp User-Based Security Model - SECURITY_MODEL -> Snmp\n",
      "Monitored - MANAGES -> Management Information Definitions For The Snmp User-Based Security Model\n"
     ]
    }
   ],
   "source": [
    "print(structured_retriever(\"What roles or users appear to be associated with the server configuration?\"))"
   ]
  },
  {
   "cell_type": "code",
   "execution_count": 39,
   "metadata": {
    "id": "iCTMp3prtHNX"
   },
   "outputs": [],
   "source": [
    "def retriever(question: str):\n",
    "    print(f\"Search query: {question}\")\n",
    "    structured_data = structured_retriever(question)\n",
    "    unstructured_data = [el.page_content for el in vector_index.similarity_search(question)]\n",
    "    final_data = f\"\"\"Structured data:\n",
    "{structured_data}\n",
    "Unstructured data:\n",
    "{\"#Document \". join(unstructured_data)}\n",
    "    \"\"\"\n",
    "    return final_data"
   ]
  },
  {
   "cell_type": "code",
   "execution_count": 40,
   "metadata": {
    "id": "vu68Z79ttHNX"
   },
   "outputs": [],
   "source": [
    "# Condense a chat history and follow-up question into a standalone question\n",
    "_template = \"\"\"Given the following conversation and a follow up question, rephrase the follow up question to be a standalone question,\n",
    "in its original language.\n",
    "Chat History:\n",
    "{chat_history}\n",
    "Follow Up Input: {question}\n",
    "Standalone question:\"\"\"  # noqa: E501\n",
    "CONDENSE_QUESTION_PROMPT = PromptTemplate.from_template(_template)\n",
    "\n",
    "def _format_chat_history(chat_history: List[Tuple[str, str]]) -> List:\n",
    "    buffer = []\n",
    "    for human, ai in chat_history:\n",
    "        buffer.append(HumanMessage(content=human))\n",
    "        buffer.append(AIMessage(content=ai))\n",
    "    return buffer\n",
    "\n",
    "_search_query = RunnableBranch(\n",
    "    # If input includes chat_history, we condense it with the follow-up question\n",
    "    (\n",
    "        RunnableLambda(lambda x: bool(x.get(\"chat_history\"))).with_config(\n",
    "            run_name=\"HasChatHistoryCheck\"\n",
    "        ),  # Condense follow-up question and chat into a standalone_question\n",
    "        RunnablePassthrough.assign(\n",
    "            chat_history=lambda x: _format_chat_history(x[\"chat_history\"])\n",
    "        )\n",
    "        | CONDENSE_QUESTION_PROMPT\n",
    "        | ChatGroq(temperature=0)\n",
    "        | StrOutputParser(),\n",
    "    ),\n",
    "    # Else, we have no chat history, so just pass through the question\n",
    "    RunnableLambda(lambda x : x[\"question\"]),\n",
    ")"
   ]
  },
  {
   "cell_type": "code",
   "execution_count": 41,
   "metadata": {
    "id": "Dzb2jcittHNY"
   },
   "outputs": [],
   "source": [
    "template = \"\"\"Answer the question based only on the following context:\n",
    "{context}\n",
    "\n",
    "Question: {question}\n",
    "Use natural language and be concise.\n",
    "Answer:\"\"\"\n",
    "prompt = ChatPromptTemplate.from_template(template)\n",
    "\n",
    "chain = (\n",
    "    RunnableParallel(\n",
    "        {\n",
    "            \"context\": _search_query | retriever,\n",
    "            \"question\": RunnablePassthrough(),\n",
    "        }\n",
    "    )\n",
    "    | prompt\n",
    "    | llm\n",
    "    | StrOutputParser()\n",
    ")"
   ]
  },
  {
   "cell_type": "code",
   "execution_count": 43,
   "metadata": {
    "colab": {
     "base_uri": "https://localhost:8080/",
     "height": 53
    },
    "id": "dtU0iMNgtHNY",
    "outputId": "bf3cf94c-f030-41b4-fb3b-356c5bff98f5"
   },
   "outputs": [
    {
     "name": "stdout",
     "output_type": "stream",
     "text": [
      "Search query: What is the operating system version and kernel identified in the SNMP scan?\n"
     ]
    },
    {
     "name": "stderr",
     "output_type": "stream",
     "text": [
      "Received notification from DBMS server: {severity: WARNING} {code: Neo.ClientNotification.Statement.FeatureDeprecationWarning} {category: DEPRECATION} {title: This feature is deprecated and will be removed in future versions.} {description: CALL subquery without a variable scope clause is now deprecated. Use CALL (node, node) { ... }} {position: line: 3, column: 13, offset: 104} for query: \"CALL db.index.fulltext.queryNodes('entity', $query, {limit:2})\\n            YIELD node,score\\n            CALL {\\n              WITH node\\n              MATCH (node)-[r:!MENTIONS]->(neighbor)\\n              RETURN node.id + ' - ' + type(r) + ' -> ' + neighbor.id AS output\\n              UNION ALL\\n              WITH node\\n              MATCH (node)<-[r:!MENTIONS]-(neighbor)\\n              RETURN neighbor.id + ' - ' + type(r) + ' -> ' +  node.id AS output\\n            }\\n            RETURN output LIMIT 50\\n            \"\n",
      "Received notification from DBMS server: {severity: WARNING} {code: Neo.ClientNotification.Statement.FeatureDeprecationWarning} {category: DEPRECATION} {title: This feature is deprecated and will be removed in future versions.} {description: CALL subquery without a variable scope clause is now deprecated. Use CALL (node, node) { ... }} {position: line: 3, column: 13, offset: 104} for query: \"CALL db.index.fulltext.queryNodes('entity', $query, {limit:2})\\n            YIELD node,score\\n            CALL {\\n              WITH node\\n              MATCH (node)-[r:!MENTIONS]->(neighbor)\\n              RETURN node.id + ' - ' + type(r) + ' -> ' + neighbor.id AS output\\n              UNION ALL\\n              WITH node\\n              MATCH (node)<-[r:!MENTIONS]-(neighbor)\\n              RETURN neighbor.id + ' - ' + type(r) + ' -> ' +  node.id AS output\\n            }\\n            RETURN output LIMIT 50\\n            \"\n",
      "Received notification from DBMS server: {severity: WARNING} {code: Neo.ClientNotification.Statement.FeatureDeprecationWarning} {category: DEPRECATION} {title: This feature is deprecated and will be removed in future versions.} {description: CALL subquery without a variable scope clause is now deprecated. Use CALL (node, node) { ... }} {position: line: 3, column: 13, offset: 104} for query: \"CALL db.index.fulltext.queryNodes('entity', $query, {limit:2})\\n            YIELD node,score\\n            CALL {\\n              WITH node\\n              MATCH (node)-[r:!MENTIONS]->(neighbor)\\n              RETURN node.id + ' - ' + type(r) + ' -> ' + neighbor.id AS output\\n              UNION ALL\\n              WITH node\\n              MATCH (node)<-[r:!MENTIONS]-(neighbor)\\n              RETURN neighbor.id + ' - ' + type(r) + ' -> ' +  node.id AS output\\n            }\\n            RETURN output LIMIT 50\\n            \"\n",
      "Received notification from DBMS server: {severity: WARNING} {code: Neo.ClientNotification.Statement.FeatureDeprecationWarning} {category: DEPRECATION} {title: This feature is deprecated and will be removed in future versions.} {description: CALL subquery without a variable scope clause is now deprecated. Use CALL () { ... }} {position: line: 1, column: 1, offset: 0} for query: \"CALL { CALL db.index.vector.queryNodes($index, $k, $embedding) YIELD node, score WITH collect({node:node, score:score}) AS nodes, max(score) AS max UNWIND nodes AS n RETURN n.node AS node, (n.score / max) AS score UNION CALL db.index.fulltext.queryNodes($keyword_index, $query, {limit: $k}) YIELD node, score WITH collect({node:node, score:score}) AS nodes, max(score) AS max UNWIND nodes AS n RETURN n.node AS node, (n.score / max) AS score } WITH node, max(score) AS score ORDER BY score DESC LIMIT $k RETURN reduce(str='', k IN ['text'] | str + '\\\\n' + k + ': ' + coalesce(node[k], '')) AS text, node {.*, `embedding`: Null, id: Null, `text`: Null} AS metadata, score\"\n"
     ]
    }
   ],
   "source": [
    "res=chain.invoke({\"question\": \"What is the operating system version and kernel identified in the SNMP scan?\"})"
   ]
  },
  {
   "cell_type": "code",
   "execution_count": null,
   "metadata": {},
   "outputs": [],
   "source": [
    "chain.invoke(\n",
    "    {\n",
    "        \"question\": \"\",\n",
    "        \"chat_history\": [(\"What is the operating system version and kernel identified in the SNMP scan?\", \"The operating system identified in the SNMP scan is Linux, and the version is 5.10.0-27-amd64 with kernel 5.10.0-27-amd64.\")],\n",
    "    }\n",
    ")"
   ]
  }
 ],
 "metadata": {
  "colab": {
   "provenance": []
  },
  "kernelspec": {
   "display_name": "env",
   "language": "python",
   "name": "python3"
  },
  "language_info": {
   "codemirror_mode": {
    "name": "ipython",
    "version": 3
   },
   "file_extension": ".py",
   "mimetype": "text/x-python",
   "name": "python",
   "nbconvert_exporter": "python",
   "pygments_lexer": "ipython3",
   "version": "3.11.4"
  },
  "widgets": {
   "application/vnd.jupyter.widget-state+json": {
    "8e37edd9789a4d57a7be401628e7ff7f": {
     "model_module": "yfiles-jupyter-graphs",
     "model_module_version": "^1.6.1",
     "model_name": "GraphModel",
     "state": {
      "_context_pane_mapping": [
       {
        "id": "Neighborhood",
        "title": "Neighborhood"
       },
       {
        "id": "Data",
        "title": "Data"
       },
       {
        "id": "Search",
        "title": "Search"
       },
       {
        "id": "About",
        "title": "About"
       }
      ],
      "_data_importer": "neo4j",
      "_directed": true,
      "_dom_classes": [],
      "_edges": [
       {
        "color": "#9C27B0",
        "directed": true,
        "end": 2,
        "id": 14,
        "label": "RULED",
        "properties": {
         "label": "RULED"
        },
        "start": 1,
        "thickness_factor": 1
       },
       {
        "color": "#9C27B0",
        "directed": true,
        "end": 3,
        "id": 15,
        "label": "RULED",
        "properties": {
         "label": "RULED"
        },
        "start": 1,
        "thickness_factor": 1
       },
       {
        "color": "#2196F3",
        "directed": true,
        "end": 4,
        "id": 16,
        "label": "BELONGED_TO",
        "properties": {
         "label": "BELONGED_TO"
        },
        "start": 1,
        "thickness_factor": 1
       },
       {
        "color": "#4CAF50",
        "directed": true,
        "end": 5,
        "id": 17,
        "label": "PARENT",
        "properties": {
         "label": "PARENT"
        },
        "start": 1,
        "thickness_factor": 1
       },
       {
        "color": "#4CAF50",
        "directed": true,
        "end": 6,
        "id": 18,
        "label": "PARENT",
        "properties": {
         "label": "PARENT"
        },
        "start": 1,
        "thickness_factor": 1
       },
       {
        "color": "#F44336",
        "directed": true,
        "end": 6,
        "id": 19,
        "label": "SPOUSE",
        "properties": {
         "label": "SPOUSE"
        },
        "start": 5,
        "thickness_factor": 1
       },
       {
        "color": "#4CAF50",
        "directed": true,
        "end": 7,
        "id": 20,
        "label": "PARENT",
        "properties": {
         "label": "PARENT"
        },
        "start": 5,
        "thickness_factor": 1
       },
       {
        "color": "#607D8B",
        "directed": true,
        "end": 8,
        "id": 21,
        "label": "BEQUEATHED_CROWN_TO",
        "properties": {
         "label": "BEQUEATHED_CROWN_TO"
        },
        "start": 7,
        "thickness_factor": 1
       },
       {
        "color": "#673AB7",
        "directed": true,
        "end": 9,
        "id": 22,
        "label": "IGNORED_CLAIMS_OF",
        "properties": {
         "label": "IGNORED_CLAIMS_OF"
        },
        "start": 7,
        "thickness_factor": 1
       },
       {
        "color": "#673AB7",
        "directed": true,
        "end": 1,
        "id": 23,
        "label": "IGNORED_CLAIMS_OF",
        "properties": {
         "label": "IGNORED_CLAIMS_OF"
        },
        "start": 7,
        "thickness_factor": 1
       },
       {
        "color": "#CDDC39",
        "directed": true,
        "end": 1,
        "id": 24,
        "label": "IMPRISONED",
        "properties": {
         "label": "IMPRISONED"
        },
        "start": 9,
        "thickness_factor": 1
       },
       {
        "color": "#9E9E9E",
        "directed": true,
        "end": 10,
        "id": 25,
        "label": "DEPENDED_ON",
        "properties": {
         "label": "DEPENDED_ON"
        },
        "start": 1,
        "thickness_factor": 1
       },
       {
        "color": "#9C27B0",
        "directed": true,
        "end": 11,
        "id": 26,
        "label": "CREATED_TITLE",
        "properties": {
         "label": "CREATED_TITLE"
        },
        "start": 1,
        "thickness_factor": 1
       },
       {
        "color": "#2196F3",
        "directed": true,
        "end": 12,
        "id": 27,
        "label": "SUCCEEDED_BY",
        "properties": {
         "label": "SUCCEEDED_BY"
        },
        "start": 1,
        "thickness_factor": 1
       },
       {
        "color": "#4CAF50",
        "directed": true,
        "end": 12,
        "id": 28,
        "label": "PARENT",
        "properties": {
         "label": "PARENT"
        },
        "start": 13,
        "thickness_factor": 1
       },
       {
        "color": "#9E9E9E",
        "directed": true,
        "end": 14,
        "id": 29,
        "label": "DEPENDED_ON",
        "properties": {
         "label": "DEPENDED_ON"
        },
        "start": 1,
        "thickness_factor": 1
       },
       {
        "color": "#4CAF50",
        "directed": true,
        "end": 17,
        "id": 40,
        "label": "WAR",
        "properties": {
         "label": "WAR"
        },
        "start": 16,
        "thickness_factor": 1
       },
       {
        "color": "#4CAF50",
        "directed": true,
        "end": 18,
        "id": 41,
        "label": "WAR",
        "properties": {
         "label": "WAR"
        },
        "start": 16,
        "thickness_factor": 1
       },
       {
        "color": "#4CAF50",
        "directed": true,
        "end": 19,
        "id": 42,
        "label": "WAR",
        "properties": {
         "label": "WAR"
        },
        "start": 16,
        "thickness_factor": 1
       },
       {
        "color": "#4CAF50",
        "directed": true,
        "end": 3,
        "id": 43,
        "label": "WAR",
        "properties": {
         "label": "WAR"
        },
        "start": 16,
        "thickness_factor": 1
       },
       {
        "color": "#F44336",
        "directed": true,
        "end": 20,
        "id": 44,
        "label": "LEAD",
        "properties": {
         "label": "LEAD"
        },
        "start": 16,
        "thickness_factor": 1
       },
       {
        "color": "#F44336",
        "directed": true,
        "end": 21,
        "id": 45,
        "label": "LEAD",
        "properties": {
         "label": "LEAD"
        },
        "start": 16,
        "thickness_factor": 1
       },
       {
        "color": "#F44336",
        "directed": true,
        "end": 22,
        "id": 46,
        "label": "LEAD",
        "properties": {
         "label": "LEAD"
        },
        "start": 16,
        "thickness_factor": 1
       },
       {
        "color": "#F44336",
        "directed": true,
        "end": 23,
        "id": 47,
        "label": "LEAD",
        "properties": {
         "label": "LEAD"
        },
        "start": 16,
        "thickness_factor": 1
       },
       {
        "color": "#607D8B",
        "directed": true,
        "end": 24,
        "id": 48,
        "label": "DEFEAT",
        "properties": {
         "label": "DEFEAT"
        },
        "start": 16,
        "thickness_factor": 1
       },
       {
        "color": "#673AB7",
        "directed": true,
        "end": 12,
        "id": 64,
        "label": "SUCCESSOR",
        "properties": {
         "label": "SUCCESSOR"
        },
        "start": 1,
        "thickness_factor": 1
       },
       {
        "color": "#673AB7",
        "directed": true,
        "end": 7,
        "id": 65,
        "label": "SUCCESSOR",
        "properties": {
         "label": "SUCCESSOR"
        },
        "start": 5,
        "thickness_factor": 1
       },
       {
        "color": "#673AB7",
        "directed": true,
        "end": 29,
        "id": 66,
        "label": "SUCCESSOR",
        "properties": {
         "label": "SUCCESSOR"
        },
        "start": 5,
        "thickness_factor": 1
       },
       {
        "color": "#673AB7",
        "directed": true,
        "end": 1,
        "id": 67,
        "label": "SUCCESSOR",
        "properties": {
         "label": "SUCCESSOR"
        },
        "start": 5,
        "thickness_factor": 1
       },
       {
        "color": "#673AB7",
        "directed": true,
        "end": 30,
        "id": 68,
        "label": "SUCCESSOR",
        "properties": {
         "label": "SUCCESSOR"
        },
        "start": 5,
        "thickness_factor": 1
       },
       {
        "color": "#673AB7",
        "directed": true,
        "end": 31,
        "id": 69,
        "label": "SUCCESSOR",
        "properties": {
         "label": "SUCCESSOR"
        },
        "start": 5,
        "thickness_factor": 1
       },
       {
        "color": "#673AB7",
        "directed": true,
        "end": 32,
        "id": 70,
        "label": "SUCCESSOR",
        "properties": {
         "label": "SUCCESSOR"
        },
        "start": 5,
        "thickness_factor": 1
       },
       {
        "color": "#673AB7",
        "directed": true,
        "end": 33,
        "id": 71,
        "label": "SUCCESSOR",
        "properties": {
         "label": "SUCCESSOR"
        },
        "start": 5,
        "thickness_factor": 1
       },
       {
        "color": "#CDDC39",
        "directed": true,
        "end": 34,
        "id": 72,
        "label": "PREFERRED_SUCCESSOR",
        "properties": {
         "label": "PREFERRED_SUCCESSOR"
        },
        "start": 29,
        "thickness_factor": 1
       },
       {
        "color": "#9E9E9E",
        "directed": true,
        "end": 35,
        "id": 73,
        "label": "FAMILY_RELATION",
        "properties": {
         "label": "FAMILY_RELATION"
        },
        "start": 34,
        "thickness_factor": 1
       },
       {
        "color": "#9C27B0",
        "directed": true,
        "end": 13,
        "id": 74,
        "label": "MARRIAGE",
        "properties": {
         "label": "MARRIAGE"
        },
        "start": 35,
        "thickness_factor": 1
       },
       {
        "color": "#2196F3",
        "directed": true,
        "end": 37,
        "id": 91,
        "label": "GRANDPARENT",
        "properties": {
         "label": "GRANDPARENT"
        },
        "start": 39,
        "thickness_factor": 1
       },
       {
        "color": "#2196F3",
        "directed": true,
        "end": 38,
        "id": 92,
        "label": "GRANDPARENT",
        "properties": {
         "label": "GRANDPARENT"
        },
        "start": 39,
        "thickness_factor": 1
       },
       {
        "color": "#4CAF50",
        "directed": true,
        "end": 40,
        "id": 93,
        "label": "PARENT",
        "properties": {
         "label": "PARENT"
        },
        "start": 34,
        "thickness_factor": 1
       },
       {
        "color": "#4CAF50",
        "directed": true,
        "end": 38,
        "id": 94,
        "label": "PARENT",
        "properties": {
         "label": "PARENT"
        },
        "start": 40,
        "thickness_factor": 1
       },
       {
        "color": "#4CAF50",
        "directed": true,
        "end": 37,
        "id": 95,
        "label": "PARENT",
        "properties": {
         "label": "PARENT"
        },
        "start": 13,
        "thickness_factor": 1
       },
       {
        "color": "#4CAF50",
        "directed": true,
        "end": 16,
        "id": 96,
        "label": "CONTENDER",
        "properties": {
         "label": "CONTENDER"
        },
        "start": 13,
        "thickness_factor": 1
       },
       {
        "color": "#4CAF50",
        "directed": true,
        "end": 8,
        "id": 97,
        "label": "PARENT",
        "properties": {
         "label": "PARENT"
        },
        "start": 41,
        "thickness_factor": 1
       },
       {
        "color": "#4CAF50",
        "directed": true,
        "end": 46,
        "id": 98,
        "label": "PARENT",
        "properties": {
         "label": "PARENT"
        },
        "start": 41,
        "thickness_factor": 1
       },
       {
        "color": "#4CAF50",
        "directed": true,
        "end": 47,
        "id": 99,
        "label": "PARENT",
        "properties": {
         "label": "PARENT"
        },
        "start": 41,
        "thickness_factor": 1
       },
       {
        "color": "#F44336",
        "directed": true,
        "end": 41,
        "id": 100,
        "label": "SPOUSE",
        "properties": {
         "label": "SPOUSE"
        },
        "start": 44,
        "thickness_factor": 1
       },
       {
        "color": "#F44336",
        "directed": true,
        "end": 42,
        "id": 101,
        "label": "SPOUSE",
        "properties": {
         "label": "SPOUSE"
        },
        "start": 44,
        "thickness_factor": 1
       },
       {
        "color": "#F44336",
        "directed": true,
        "end": 41,
        "id": 102,
        "label": "SPOUSE",
        "properties": {
         "label": "SPOUSE"
        },
        "start": 45,
        "thickness_factor": 1
       },
       {
        "color": "#F44336",
        "directed": true,
        "end": 48,
        "id": 103,
        "label": "SPOUSE",
        "properties": {
         "label": "SPOUSE"
        },
        "start": 46,
        "thickness_factor": 1
       },
       {
        "color": "#F44336",
        "directed": true,
        "end": 51,
        "id": 117,
        "label": "HELD_TITLE",
        "properties": {
         "label": "HELD_TITLE"
        },
        "start": 50,
        "thickness_factor": 1
       }
      ],
      "_graph_layout": {},
      "_highlight": [],
      "_license": {},
      "_model_module": "yfiles-jupyter-graphs",
      "_model_module_version": "^1.6.1",
      "_model_name": "GraphModel",
      "_neighborhood": {},
      "_nodes": [
       {
        "color": "#2196F3",
        "id": 1,
        "label": "Elizabeth I",
        "position": [
         0,
         0
        ],
        "properties": {
         "id": "Elizabeth I",
         "label": "Person:__Entity__"
        },
        "scale_factor": 1,
        "size": [
         55,
         55
        ],
        "styles": {},
        "type": "#2196F3"
       },
       {
        "color": "#4CAF50",
        "id": 2,
        "label": "England",
        "position": [
         0,
         0
        ],
        "properties": {
         "id": "England",
         "label": "Country:__Entity__"
        },
        "scale_factor": 1,
        "size": [
         55,
         55
        ],
        "styles": {},
        "type": "#4CAF50"
       },
       {
        "color": "#4CAF50",
        "id": 3,
        "label": "Ireland",
        "position": [
         0,
         0
        ],
        "properties": {
         "id": "Ireland",
         "label": "Country:__Entity__"
        },
        "scale_factor": 1,
        "size": [
         55,
         55
        ],
        "styles": {},
        "type": "#4CAF50"
       },
       {
        "color": "#F44336",
        "id": 4,
        "label": "House Of Tudor",
        "position": [
         0,
         0
        ],
        "properties": {
         "id": "House Of Tudor",
         "label": "__Entity__:Royal family"
        },
        "scale_factor": 1,
        "size": [
         55,
         55
        ],
        "styles": {},
        "type": "#F44336"
       },
       {
        "color": "#2196F3",
        "id": 5,
        "label": "Henry Viii",
        "position": [
         0,
         0
        ],
        "properties": {
         "id": "Henry Viii",
         "label": "Person:__Entity__"
        },
        "scale_factor": 1,
        "size": [
         55,
         55
        ],
        "styles": {},
        "type": "#2196F3"
       },
       {
        "color": "#2196F3",
        "id": 6,
        "label": "Anne Boleyn",
        "position": [
         0,
         0
        ],
        "properties": {
         "id": "Anne Boleyn",
         "label": "Person:__Entity__"
        },
        "scale_factor": 1,
        "size": [
         55,
         55
        ],
        "styles": {},
        "type": "#2196F3"
       },
       {
        "color": "#2196F3",
        "id": 7,
        "label": "Edward Vi",
        "position": [
         0,
         0
        ],
        "properties": {
         "id": "Edward Vi",
         "label": "Person:__Entity__"
        },
        "scale_factor": 1,
        "size": [
         55,
         55
        ],
        "styles": {},
        "type": "#2196F3"
       },
       {
        "color": "#2196F3",
        "id": 8,
        "label": "Lady Jane Grey",
        "position": [
         0,
         0
        ],
        "properties": {
         "id": "Lady Jane Grey",
         "label": "Person:__Entity__"
        },
        "scale_factor": 1,
        "size": [
         55,
         55
        ],
        "styles": {},
        "type": "#2196F3"
       },
       {
        "color": "#2196F3",
        "id": 9,
        "label": "Mary",
        "position": [
         0,
         0
        ],
        "properties": {
         "id": "Mary",
         "label": "Person:__Entity__"
        },
        "scale_factor": 1,
        "size": [
         55,
         55
        ],
        "styles": {},
        "type": "#2196F3"
       },
       {
        "color": "#2196F3",
        "id": 10,
        "label": "William Cecil",
        "position": [
         0,
         0
        ],
        "properties": {
         "id": "William Cecil",
         "label": "Person:__Entity__"
        },
        "scale_factor": 1,
        "size": [
         55,
         55
        ],
        "styles": {},
        "type": "#2196F3"
       },
       {
        "color": "#607D8B",
        "id": 11,
        "label": "Baron Burghley",
        "position": [
         0,
         0
        ],
        "properties": {
         "id": "Baron Burghley",
         "label": "Title:__Entity__"
        },
        "scale_factor": 1,
        "size": [
         55,
         55
        ],
        "styles": {},
        "type": "#607D8B"
       },
       {
        "color": "#2196F3",
        "id": 12,
        "label": "James Vi Of Scotland",
        "position": [
         0,
         0
        ],
        "properties": {
         "id": "James Vi Of Scotland",
         "label": "Person:__Entity__"
        },
        "scale_factor": 1,
        "size": [
         55,
         55
        ],
        "styles": {},
        "type": "#2196F3"
       },
       {
        "color": "#2196F3",
        "id": 13,
        "label": "Mary, Queen Of Scots",
        "position": [
         0,
         0
        ],
        "properties": {
         "id": "Mary, Queen Of Scots",
         "label": "Person:__Entity__"
        },
        "scale_factor": 1,
        "size": [
         55,
         55
        ],
        "styles": {},
        "type": "#2196F3"
       },
       {
        "color": "#2196F3",
        "id": 14,
        "label": "Francis Walsingham",
        "position": [
         0,
         0
        ],
        "properties": {
         "id": "Francis Walsingham",
         "label": "Person:__Entity__"
        },
        "scale_factor": 1,
        "size": [
         55,
         55
        ],
        "styles": {},
        "type": "#2196F3"
       },
       {
        "color": "#2196F3",
        "id": 16,
        "label": "Elizabeth",
        "position": [
         0,
         0
        ],
        "properties": {
         "id": "Elizabeth",
         "label": "Person:__Entity__"
        },
        "scale_factor": 1,
        "size": [
         55,
         55
        ],
        "styles": {},
        "type": "#2196F3"
       },
       {
        "color": "#4CAF50",
        "id": 17,
        "label": "Spain",
        "position": [
         0,
         0
        ],
        "properties": {
         "id": "Spain",
         "label": "Country:__Entity__"
        },
        "scale_factor": 1,
        "size": [
         55,
         55
        ],
        "styles": {},
        "type": "#4CAF50"
       },
       {
        "color": "#4CAF50",
        "id": 18,
        "label": "Netherlands",
        "position": [
         0,
         0
        ],
        "properties": {
         "id": "Netherlands",
         "label": "Country:__Entity__"
        },
        "scale_factor": 1,
        "size": [
         55,
         55
        ],
        "styles": {},
        "type": "#4CAF50"
       },
       {
        "color": "#4CAF50",
        "id": 19,
        "label": "France",
        "position": [
         0,
         0
        ],
        "properties": {
         "id": "France",
         "label": "Country:__Entity__"
        },
        "scale_factor": 1,
        "size": [
         55,
         55
        ],
        "styles": {},
        "type": "#4CAF50"
       },
       {
        "color": "#673AB7",
        "id": 20,
        "label": "William Shakespeare",
        "position": [
         0,
         0
        ],
        "properties": {
         "id": "William Shakespeare",
         "label": "Playwright:__Entity__"
        },
        "scale_factor": 1,
        "size": [
         55,
         55
        ],
        "styles": {},
        "type": "#673AB7"
       },
       {
        "color": "#673AB7",
        "id": 21,
        "label": "Christopher Marlowe",
        "position": [
         0,
         0
        ],
        "properties": {
         "id": "Christopher Marlowe",
         "label": "Playwright:__Entity__"
        },
        "scale_factor": 1,
        "size": [
         55,
         55
        ],
        "styles": {},
        "type": "#673AB7"
       },
       {
        "color": "#CDDC39",
        "id": 22,
        "label": "Francis Drake",
        "position": [
         0,
         0
        ],
        "properties": {
         "id": "Francis Drake",
         "label": "Explorer:__Entity__"
        },
        "scale_factor": 1,
        "size": [
         55,
         55
        ],
        "styles": {},
        "type": "#CDDC39"
       },
       {
        "color": "#CDDC39",
        "id": 23,
        "label": "Walter Raleigh",
        "position": [
         0,
         0
        ],
        "properties": {
         "id": "Walter Raleigh",
         "label": "Explorer:__Entity__"
        },
        "scale_factor": 1,
        "size": [
         55,
         55
        ],
        "styles": {},
        "type": "#CDDC39"
       },
       {
        "color": "#9E9E9E",
        "id": 24,
        "label": "Spanish Armada",
        "position": [
         0,
         0
        ],
        "properties": {
         "id": "Spanish Armada",
         "label": "Event:__Entity__"
        },
        "scale_factor": 1,
        "size": [
         55,
         55
        ],
        "styles": {},
        "type": "#9E9E9E"
       },
       {
        "color": "#2196F3",
        "id": 29,
        "label": "Mary I",
        "position": [
         0,
         0
        ],
        "properties": {
         "id": "Mary I",
         "label": "Person:__Entity__"
        },
        "scale_factor": 1,
        "size": [
         55,
         55
        ],
        "styles": {},
        "type": "#2196F3"
       },
       {
        "color": "#2196F3",
        "id": 30,
        "label": "Jane Grey",
        "position": [
         0,
         0
        ],
        "properties": {
         "id": "Jane Grey",
         "label": "Person:__Entity__"
        },
        "scale_factor": 1,
        "size": [
         55,
         55
        ],
        "styles": {},
        "type": "#2196F3"
       },
       {
        "color": "#2196F3",
        "id": 31,
        "label": "Katherine Grey",
        "position": [
         0,
         0
        ],
        "properties": {
         "id": "Katherine Grey",
         "label": "Person:__Entity__"
        },
        "scale_factor": 1,
        "size": [
         55,
         55
        ],
        "styles": {},
        "type": "#2196F3"
       },
       {
        "color": "#2196F3",
        "id": 32,
        "label": "Mary Grey",
        "position": [
         0,
         0
        ],
        "properties": {
         "id": "Mary Grey",
         "label": "Person:__Entity__"
        },
        "scale_factor": 1,
        "size": [
         55,
         55
        ],
        "styles": {},
        "type": "#2196F3"
       },
       {
        "color": "#2196F3",
        "id": 33,
        "label": "Margaret Clifford",
        "position": [
         0,
         0
        ],
        "properties": {
         "id": "Margaret Clifford",
         "label": "Person:__Entity__"
        },
        "scale_factor": 1,
        "size": [
         55,
         55
        ],
        "styles": {},
        "type": "#2196F3"
       },
       {
        "color": "#2196F3",
        "id": 34,
        "label": "Margaret Douglas",
        "position": [
         0,
         0
        ],
        "properties": {
         "id": "Margaret Douglas",
         "label": "Person:__Entity__"
        },
        "scale_factor": 1,
        "size": [
         55,
         55
        ],
        "styles": {},
        "type": "#2196F3"
       },
       {
        "color": "#2196F3",
        "id": 35,
        "label": "Henry Stuart, Lord Darnley",
        "position": [
         0,
         0
        ],
        "properties": {
         "id": "Henry Stuart, Lord Darnley",
         "label": "Person:__Entity__"
        },
        "scale_factor": 1,
        "size": [
         55,
         55
        ],
        "styles": {},
        "type": "#2196F3"
       },
       {
        "color": "#2196F3",
        "id": 39,
        "label": "Margaret Tudor",
        "position": [
         0,
         0
        ],
        "properties": {
         "id": "Margaret Tudor",
         "label": "Person:__Entity__"
        },
        "scale_factor": 1,
        "size": [
         55,
         55
        ],
        "styles": {},
        "type": "#2196F3"
       },
       {
        "color": "#2196F3",
        "id": 37,
        "label": "James Vi",
        "position": [
         0,
         0
        ],
        "properties": {
         "id": "James Vi",
         "label": "Person:__Entity__"
        },
        "scale_factor": 1,
        "size": [
         55,
         55
        ],
        "styles": {},
        "type": "#2196F3"
       },
       {
        "color": "#2196F3",
        "id": 38,
        "label": "Arbella Stuart",
        "position": [
         0,
         0
        ],
        "properties": {
         "id": "Arbella Stuart",
         "label": "Person:__Entity__"
        },
        "scale_factor": 1,
        "size": [
         55,
         55
        ],
        "styles": {},
        "type": "#2196F3"
       },
       {
        "color": "#2196F3",
        "id": 40,
        "label": "Charles Stuart",
        "position": [
         0,
         0
        ],
        "properties": {
         "id": "Charles Stuart",
         "label": "Person:__Entity__"
        },
        "scale_factor": 1,
        "size": [
         55,
         55
        ],
        "styles": {},
        "type": "#2196F3"
       },
       {
        "color": "#2196F3",
        "id": 41,
        "label": "Frances Grey",
        "position": [
         0,
         0
        ],
        "properties": {
         "id": "Frances Grey",
         "label": "Person:__Entity__"
        },
        "scale_factor": 1,
        "size": [
         55,
         55
        ],
        "styles": {},
        "type": "#2196F3"
       },
       {
        "color": "#2196F3",
        "id": 46,
        "label": "Lady Catherine Grey",
        "position": [
         0,
         0
        ],
        "properties": {
         "id": "Lady Catherine Grey",
         "label": "Person:__Entity__"
        },
        "scale_factor": 1,
        "size": [
         55,
         55
        ],
        "styles": {},
        "type": "#2196F3"
       },
       {
        "color": "#2196F3",
        "id": 47,
        "label": "Lady Mary Grey",
        "position": [
         0,
         0
        ],
        "properties": {
         "id": "Lady Mary Grey",
         "label": "Person:__Entity__"
        },
        "scale_factor": 1,
        "size": [
         55,
         55
        ],
        "styles": {},
        "type": "#2196F3"
       },
       {
        "color": "#2196F3",
        "id": 44,
        "label": "Charles Brandon",
        "position": [
         0,
         0
        ],
        "properties": {
         "id": "Charles Brandon",
         "label": "Person:__Entity__"
        },
        "scale_factor": 1,
        "size": [
         55,
         55
        ],
        "styles": {},
        "type": "#2196F3"
       },
       {
        "color": "#2196F3",
        "id": 42,
        "label": "Eleanor Clifford",
        "position": [
         0,
         0
        ],
        "properties": {
         "id": "Eleanor Clifford",
         "label": "Person:__Entity__"
        },
        "scale_factor": 1,
        "size": [
         55,
         55
        ],
        "styles": {},
        "type": "#2196F3"
       },
       {
        "color": "#2196F3",
        "id": 45,
        "label": "Henry Grey",
        "position": [
         0,
         0
        ],
        "properties": {
         "id": "Henry Grey",
         "label": "Person:__Entity__"
        },
        "scale_factor": 1,
        "size": [
         55,
         55
        ],
        "styles": {},
        "type": "#2196F3"
       },
       {
        "color": "#2196F3",
        "id": 48,
        "label": "Henry Herbert",
        "position": [
         0,
         0
        ],
        "properties": {
         "id": "Henry Herbert",
         "label": "Person:__Entity__"
        },
        "scale_factor": 1,
        "size": [
         55,
         55
        ],
        "styles": {},
        "type": "#2196F3"
       },
       {
        "color": "#2196F3",
        "id": 50,
        "label": "Elizabeth Petrovna",
        "position": [
         0,
         0
        ],
        "properties": {
         "id": "Elizabeth Petrovna",
         "label": "Person:__Entity__"
        },
        "scale_factor": 1,
        "size": [
         55,
         55
        ],
        "styles": {},
        "type": "#2196F3"
       },
       {
        "color": "#607D8B",
        "id": 51,
        "label": "Empress Of Russia",
        "position": [
         0,
         0
        ],
        "properties": {
         "id": "Empress Of Russia",
         "label": "Title:__Entity__"
        },
        "scale_factor": 1,
        "size": [
         55,
         55
        ],
        "styles": {},
        "type": "#607D8B"
       }
      ],
      "_overview": {
       "enabled": null,
       "overview_set": false
      },
      "_selected_graph": [
       [],
       []
      ],
      "_sidebar": {
       "enabled": true,
       "start_with": ""
      },
      "_view_count": null,
      "_view_module": "yfiles-jupyter-graphs",
      "_view_module_version": "^1.6.1",
      "_view_name": "GraphView",
      "layout": "IPY_MODEL_9bac7003afd84cecb4e67a81a396ec8d"
     }
    },
    "9bac7003afd84cecb4e67a81a396ec8d": {
     "model_module": "@jupyter-widgets/base",
     "model_module_version": "1.2.0",
     "model_name": "LayoutModel",
     "state": {
      "_model_module": "@jupyter-widgets/base",
      "_model_module_version": "1.2.0",
      "_model_name": "LayoutModel",
      "_view_count": null,
      "_view_module": "@jupyter-widgets/base",
      "_view_module_version": "1.2.0",
      "_view_name": "LayoutView",
      "align_content": null,
      "align_items": null,
      "align_self": null,
      "border": null,
      "bottom": null,
      "display": null,
      "flex": null,
      "flex_flow": null,
      "grid_area": null,
      "grid_auto_columns": null,
      "grid_auto_flow": null,
      "grid_auto_rows": null,
      "grid_column": null,
      "grid_gap": null,
      "grid_row": null,
      "grid_template_areas": null,
      "grid_template_columns": null,
      "grid_template_rows": null,
      "height": "800px",
      "justify_content": null,
      "justify_items": null,
      "left": null,
      "margin": null,
      "max_height": null,
      "max_width": null,
      "min_height": null,
      "min_width": null,
      "object_fit": null,
      "object_position": null,
      "order": null,
      "overflow": null,
      "overflow_x": null,
      "overflow_y": null,
      "padding": null,
      "right": null,
      "top": null,
      "visibility": null,
      "width": "100%"
     }
    }
   }
  }
 },
 "nbformat": 4,
 "nbformat_minor": 0
}
